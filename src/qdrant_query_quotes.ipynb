{
  "cells": [
    {
      "cell_type": "markdown",
      "metadata": {
        "id": "VPqLCOinhLOd"
      },
      "source": [
        "## Qdrant\n",
        "https://qdrant.tech/documentation/quick-start/\n",
        "\n",
        "Qdrant entities are named collection and points (= vector)\n",
        "\n",
        "1. Connect to Qdrant via langchain, create collection\n",
        "2. Add openAI embeddings to Qdrant\n",
        "3. Search\n"
      ]
    },
    {
      "cell_type": "code",
      "execution_count": null,
      "metadata": {
        "id": "EJGzhAMHh_cm"
      },
      "outputs": [],
      "source": [
        "!pip install qdrant-client"
      ]
    },
    {
      "cell_type": "code",
      "execution_count": null,
      "metadata": {
        "id": "UUeiNRkXiTpK"
      },
      "outputs": [],
      "source": [
        "!pip install openai langchain tiktoken"
      ]
    },
    {
      "cell_type": "code",
      "execution_count": 11,
      "metadata": {
        "id": "5T6XNYKliDaX"
      },
      "outputs": [],
      "source": [
        "import os\n",
        "import qdrant_client\n",
        "from langchain.vectorstores import Qdrant\n",
        "from langchain.embeddings.openai import OpenAIEmbeddings\n",
        "from google.colab import userdata\n",
        "\n",
        "os.environ[\"QDRANT_API_KEY\"] = userdata.get('qdrant_api_key')\n",
        "os.environ[\"QDRANT_HOST\"] = userdata.get('qdrant_host')"
      ]
    },
    {
      "cell_type": "markdown",
      "metadata": {
        "id": "hz9c2df3nSfN"
      },
      "source": [
        "## Create Collection"
      ]
    },
    {
      "cell_type": "code",
      "execution_count": 30,
      "metadata": {
        "id": "ckMxXquMjuyH"
      },
      "outputs": [],
      "source": [
        "db_client = qdrant_client.QdrantClient(\n",
        "    api_key=os.environ[\"QDRANT_API_KEY\"],\n",
        "    location=os.environ[\"QDRANT_HOST\"]\n",
        ")"
      ]
    },
    {
      "cell_type": "code",
      "execution_count": 10,
      "metadata": {
        "colab": {
          "base_uri": "https://localhost:8080/"
        },
        "id": "cG5eYX0FlcLG",
        "outputId": "cb86fd8f-0767-4108-cc9b-a0b83a93d905"
      },
      "outputs": [
        {
          "data": {
            "text/plain": [
              "True"
            ]
          },
          "execution_count": 10,
          "metadata": {},
          "output_type": "execute_result"
        }
      ],
      "source": [
        "from qdrant_client.models import Distance, VectorParams\n",
        "\n",
        "db_client.create_collection(\n",
        "    collection_name=\"my_collection\",\n",
        "    vectors_config=VectorParams(size=1536, # dimensions, 1536 from openAI embedding text-embedding-3-small\n",
        "                                distance=Distance.COSINE),\n",
        ")"
      ]
    },
    {
      "cell_type": "code",
      "execution_count": 34,
      "metadata": {
        "id": "puAd_QWB3xpZ"
      },
      "outputs": [],
      "source": [
        "import os\n",
        "from google.colab import userdata\n",
        "from langchain.embeddings.openai import OpenAIEmbeddings\n",
        "os.environ[\"OPENAI_API_KEY\"] = userdata.get('openai_api_key')\n"
      ]
    },
    {
      "cell_type": "markdown",
      "metadata": {
        "id": "qNmhtxPH9Jbl"
      },
      "source": [
        "## Embed and upload"
      ]
    },
    {
      "cell_type": "code",
      "execution_count": 13,
      "metadata": {
        "id": "JDtOBjPCpOrp"
      },
      "outputs": [],
      "source": [
        "import pandas as pd\n",
        "df = pd.read_csv('sample_data/quotes.csv')\n",
        "embedding_vectors = OpenAIEmbeddings(model=\"text-embedding-3-small\").embed_documents(df['quote'].tolist())"
      ]
    },
    {
      "cell_type": "code",
      "execution_count": 54,
      "metadata": {
        "colab": {
          "base_uri": "https://localhost:8080/"
        },
        "id": "SiZu_x-YpvAl",
        "outputId": "1ed7632b-c9c4-4952-ee65-9813d114d27e"
      },
      "outputs": [
        {
          "data": {
            "text/plain": [
              "UpdateResult(operation_id=0, status=<UpdateStatus.COMPLETED: 'completed'>)"
            ]
          },
          "execution_count": 54,
          "metadata": {},
          "output_type": "execute_result"
        }
      ],
      "source": [
        "from qdrant_client.models import PointStruct\n",
        "\n",
        "db_client.upsert(\n",
        "    collection_name=\"my_collection\",\n",
        "    points=[\n",
        "        PointStruct(\n",
        "            id=elem[3],\n",
        "            vector=elem[0],\n",
        "            payload={\"person\": elem[1], \"topic\": elem[2]}\n",
        "        )\n",
        "        for elem in  zip(embedding_vectors, df['person'], df['topic'], range(len(df)) )\n",
        "    ]\n",
        ")"
      ]
    },
    {
      "cell_type": "markdown",
      "metadata": {
        "id": "VeTb5U568_Kx"
      },
      "source": [
        "## Search"
      ]
    },
    {
      "cell_type": "code",
      "execution_count": 71,
      "metadata": {
        "id": "FMRm_N0C8XVt"
      },
      "outputs": [],
      "source": [
        "query_text = 'what is life'\n",
        "query_vector = OpenAIEmbeddings(model=\"text-embedding-3-small\").embed_documents([query_text])\n",
        "hits = db_client.search(\n",
        "      collection_name=\"my_collection\",\n",
        "      query_vector=query_vector[0],\n",
        "      limit=5  # Return 5 closest points\n",
        ")"
      ]
    },
    {
      "cell_type": "code",
      "execution_count": 72,
      "metadata": {
        "colab": {
          "base_uri": "https://localhost:8080/"
        },
        "id": "wrnUzRT79xuK",
        "outputId": "a0a4b878-3eda-489c-cae1-8b497e936e97"
      },
      "outputs": [
        {
          "name": "stdout",
          "output_type": "stream",
          "text": [
            "Where there is love there is life.\n",
            "Life is what happens when you're busy making other plans.\n",
            "Life is 10% what happens to us and 90% how we react to it.\n",
            "The purpose of our lives is to be happy.\n",
            "Make your life a masterpiece; imagine no limitations on what you can be, have or do.\n"
          ]
        }
      ],
      "source": [
        "for h in hits:\n",
        "  id = h.dict()['id']\n",
        "  print(df['quote'][id])\n"
      ]
    }
  ],
  "metadata": {
    "colab": {
      "provenance": []
    },
    "kernelspec": {
      "display_name": "Python 3",
      "name": "python3"
    },
    "language_info": {
      "name": "python"
    }
  },
  "nbformat": 4,
  "nbformat_minor": 0
}
