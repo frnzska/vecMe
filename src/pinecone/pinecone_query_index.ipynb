{
  "nbformat": 4,
  "nbformat_minor": 0,
  "metadata": {
    "colab": {
      "provenance": [],
      "toc_visible": true
    },
    "kernelspec": {
      "name": "python3",
      "display_name": "Python 3"
    },
    "language_info": {
      "name": "python"
    },
    "widgets": {
      "application/vnd.jupyter.widget-state+json": {
        "430af275e9cd41d184a62f790c865a98": {
          "model_module": "@jupyter-widgets/controls",
          "model_name": "HBoxModel",
          "model_module_version": "1.5.0",
          "state": {
            "_dom_classes": [],
            "_model_module": "@jupyter-widgets/controls",
            "_model_module_version": "1.5.0",
            "_model_name": "HBoxModel",
            "_view_count": null,
            "_view_module": "@jupyter-widgets/controls",
            "_view_module_version": "1.5.0",
            "_view_name": "HBoxView",
            "box_style": "",
            "children": [
              "IPY_MODEL_9808c55baa7f437f83b4de1e92c003b4",
              "IPY_MODEL_f76a137b19fa46b19887bf928403e3e1",
              "IPY_MODEL_6ac1f47929434073827351668d5abe06"
            ],
            "layout": "IPY_MODEL_1b4cc3f140804592845eb7f9200cae0d"
          }
        },
        "9808c55baa7f437f83b4de1e92c003b4": {
          "model_module": "@jupyter-widgets/controls",
          "model_name": "HTMLModel",
          "model_module_version": "1.5.0",
          "state": {
            "_dom_classes": [],
            "_model_module": "@jupyter-widgets/controls",
            "_model_module_version": "1.5.0",
            "_model_name": "HTMLModel",
            "_view_count": null,
            "_view_module": "@jupyter-widgets/controls",
            "_view_module_version": "1.5.0",
            "_view_name": "HTMLView",
            "description": "",
            "description_tooltip": null,
            "layout": "IPY_MODEL_fa8b61b569ac41198e581e494420bcfe",
            "placeholder": "​",
            "style": "IPY_MODEL_ec5a0ffebcb9473b8fce7c6b3acf69d8",
            "value": "sending upsert requests: 100%"
          }
        },
        "f76a137b19fa46b19887bf928403e3e1": {
          "model_module": "@jupyter-widgets/controls",
          "model_name": "FloatProgressModel",
          "model_module_version": "1.5.0",
          "state": {
            "_dom_classes": [],
            "_model_module": "@jupyter-widgets/controls",
            "_model_module_version": "1.5.0",
            "_model_name": "FloatProgressModel",
            "_view_count": null,
            "_view_module": "@jupyter-widgets/controls",
            "_view_module_version": "1.5.0",
            "_view_name": "ProgressView",
            "bar_style": "success",
            "description": "",
            "description_tooltip": null,
            "layout": "IPY_MODEL_2bb6e13fff134841a70efef1e54e93a2",
            "max": 10,
            "min": 0,
            "orientation": "horizontal",
            "style": "IPY_MODEL_e3261635c53645ff9aa881aa84d78379",
            "value": 10
          }
        },
        "6ac1f47929434073827351668d5abe06": {
          "model_module": "@jupyter-widgets/controls",
          "model_name": "HTMLModel",
          "model_module_version": "1.5.0",
          "state": {
            "_dom_classes": [],
            "_model_module": "@jupyter-widgets/controls",
            "_model_module_version": "1.5.0",
            "_model_name": "HTMLModel",
            "_view_count": null,
            "_view_module": "@jupyter-widgets/controls",
            "_view_module_version": "1.5.0",
            "_view_name": "HTMLView",
            "description": "",
            "description_tooltip": null,
            "layout": "IPY_MODEL_1a4449baac1447009009aa7a4e6763b8",
            "placeholder": "​",
            "style": "IPY_MODEL_594e214ac88a45259b67ab27879417f4",
            "value": " 10/10 [01:59&lt;00:00, 73.08it/s]"
          }
        },
        "1b4cc3f140804592845eb7f9200cae0d": {
          "model_module": "@jupyter-widgets/base",
          "model_name": "LayoutModel",
          "model_module_version": "1.2.0",
          "state": {
            "_model_module": "@jupyter-widgets/base",
            "_model_module_version": "1.2.0",
            "_model_name": "LayoutModel",
            "_view_count": null,
            "_view_module": "@jupyter-widgets/base",
            "_view_module_version": "1.2.0",
            "_view_name": "LayoutView",
            "align_content": null,
            "align_items": null,
            "align_self": null,
            "border": null,
            "bottom": null,
            "display": null,
            "flex": null,
            "flex_flow": null,
            "grid_area": null,
            "grid_auto_columns": null,
            "grid_auto_flow": null,
            "grid_auto_rows": null,
            "grid_column": null,
            "grid_gap": null,
            "grid_row": null,
            "grid_template_areas": null,
            "grid_template_columns": null,
            "grid_template_rows": null,
            "height": null,
            "justify_content": null,
            "justify_items": null,
            "left": null,
            "margin": null,
            "max_height": null,
            "max_width": null,
            "min_height": null,
            "min_width": null,
            "object_fit": null,
            "object_position": null,
            "order": null,
            "overflow": null,
            "overflow_x": null,
            "overflow_y": null,
            "padding": null,
            "right": null,
            "top": null,
            "visibility": null,
            "width": null
          }
        },
        "fa8b61b569ac41198e581e494420bcfe": {
          "model_module": "@jupyter-widgets/base",
          "model_name": "LayoutModel",
          "model_module_version": "1.2.0",
          "state": {
            "_model_module": "@jupyter-widgets/base",
            "_model_module_version": "1.2.0",
            "_model_name": "LayoutModel",
            "_view_count": null,
            "_view_module": "@jupyter-widgets/base",
            "_view_module_version": "1.2.0",
            "_view_name": "LayoutView",
            "align_content": null,
            "align_items": null,
            "align_self": null,
            "border": null,
            "bottom": null,
            "display": null,
            "flex": null,
            "flex_flow": null,
            "grid_area": null,
            "grid_auto_columns": null,
            "grid_auto_flow": null,
            "grid_auto_rows": null,
            "grid_column": null,
            "grid_gap": null,
            "grid_row": null,
            "grid_template_areas": null,
            "grid_template_columns": null,
            "grid_template_rows": null,
            "height": null,
            "justify_content": null,
            "justify_items": null,
            "left": null,
            "margin": null,
            "max_height": null,
            "max_width": null,
            "min_height": null,
            "min_width": null,
            "object_fit": null,
            "object_position": null,
            "order": null,
            "overflow": null,
            "overflow_x": null,
            "overflow_y": null,
            "padding": null,
            "right": null,
            "top": null,
            "visibility": null,
            "width": null
          }
        },
        "ec5a0ffebcb9473b8fce7c6b3acf69d8": {
          "model_module": "@jupyter-widgets/controls",
          "model_name": "DescriptionStyleModel",
          "model_module_version": "1.5.0",
          "state": {
            "_model_module": "@jupyter-widgets/controls",
            "_model_module_version": "1.5.0",
            "_model_name": "DescriptionStyleModel",
            "_view_count": null,
            "_view_module": "@jupyter-widgets/base",
            "_view_module_version": "1.2.0",
            "_view_name": "StyleView",
            "description_width": ""
          }
        },
        "2bb6e13fff134841a70efef1e54e93a2": {
          "model_module": "@jupyter-widgets/base",
          "model_name": "LayoutModel",
          "model_module_version": "1.2.0",
          "state": {
            "_model_module": "@jupyter-widgets/base",
            "_model_module_version": "1.2.0",
            "_model_name": "LayoutModel",
            "_view_count": null,
            "_view_module": "@jupyter-widgets/base",
            "_view_module_version": "1.2.0",
            "_view_name": "LayoutView",
            "align_content": null,
            "align_items": null,
            "align_self": null,
            "border": null,
            "bottom": null,
            "display": null,
            "flex": null,
            "flex_flow": null,
            "grid_area": null,
            "grid_auto_columns": null,
            "grid_auto_flow": null,
            "grid_auto_rows": null,
            "grid_column": null,
            "grid_gap": null,
            "grid_row": null,
            "grid_template_areas": null,
            "grid_template_columns": null,
            "grid_template_rows": null,
            "height": null,
            "justify_content": null,
            "justify_items": null,
            "left": null,
            "margin": null,
            "max_height": null,
            "max_width": null,
            "min_height": null,
            "min_width": null,
            "object_fit": null,
            "object_position": null,
            "order": null,
            "overflow": null,
            "overflow_x": null,
            "overflow_y": null,
            "padding": null,
            "right": null,
            "top": null,
            "visibility": null,
            "width": null
          }
        },
        "e3261635c53645ff9aa881aa84d78379": {
          "model_module": "@jupyter-widgets/controls",
          "model_name": "ProgressStyleModel",
          "model_module_version": "1.5.0",
          "state": {
            "_model_module": "@jupyter-widgets/controls",
            "_model_module_version": "1.5.0",
            "_model_name": "ProgressStyleModel",
            "_view_count": null,
            "_view_module": "@jupyter-widgets/base",
            "_view_module_version": "1.2.0",
            "_view_name": "StyleView",
            "bar_color": null,
            "description_width": ""
          }
        },
        "1a4449baac1447009009aa7a4e6763b8": {
          "model_module": "@jupyter-widgets/base",
          "model_name": "LayoutModel",
          "model_module_version": "1.2.0",
          "state": {
            "_model_module": "@jupyter-widgets/base",
            "_model_module_version": "1.2.0",
            "_model_name": "LayoutModel",
            "_view_count": null,
            "_view_module": "@jupyter-widgets/base",
            "_view_module_version": "1.2.0",
            "_view_name": "LayoutView",
            "align_content": null,
            "align_items": null,
            "align_self": null,
            "border": null,
            "bottom": null,
            "display": null,
            "flex": null,
            "flex_flow": null,
            "grid_area": null,
            "grid_auto_columns": null,
            "grid_auto_flow": null,
            "grid_auto_rows": null,
            "grid_column": null,
            "grid_gap": null,
            "grid_row": null,
            "grid_template_areas": null,
            "grid_template_columns": null,
            "grid_template_rows": null,
            "height": null,
            "justify_content": null,
            "justify_items": null,
            "left": null,
            "margin": null,
            "max_height": null,
            "max_width": null,
            "min_height": null,
            "min_width": null,
            "object_fit": null,
            "object_position": null,
            "order": null,
            "overflow": null,
            "overflow_x": null,
            "overflow_y": null,
            "padding": null,
            "right": null,
            "top": null,
            "visibility": null,
            "width": null
          }
        },
        "594e214ac88a45259b67ab27879417f4": {
          "model_module": "@jupyter-widgets/controls",
          "model_name": "DescriptionStyleModel",
          "model_module_version": "1.5.0",
          "state": {
            "_model_module": "@jupyter-widgets/controls",
            "_model_module_version": "1.5.0",
            "_model_name": "DescriptionStyleModel",
            "_view_count": null,
            "_view_module": "@jupyter-widgets/base",
            "_view_module_version": "1.2.0",
            "_view_name": "StyleView",
            "description_width": ""
          }
        }
      }
    }
  },
  "cells": [
    {
      "cell_type": "markdown",
      "source": [
        "# Pinecone\n",
        "docs: https://docs.pinecone.io/home\n",
        "- performant vector search\n",
        "- highly scalable and **fully managed in the cloud**\n",
        "- easy to configure underlying infrastructure (number of pods, pod size, replica for throughput.. )\n",
        "- built-in monitoring\n",
        "- data > embedding > Pinecone db < embedding < application query\n",
        "- lots of embeddings: OpenAi, transformers (e.g. sentence_transformer.. )\n",
        "- data updates immidiatly available (live vector update)\n",
        "- spark connector\n",
        "- index run at least on one pod (vitual unit) but can on multiple\n",
        "- after index creation pod number + size, dimensions etc not changable but you can create a new index from collection (collection is a snapshot of your index)\n",
        "\n"
      ],
      "metadata": {
        "id": "0cG0tMDrkRWt"
      }
    },
    {
      "cell_type": "code",
      "source": [
        "!pip install pinecone-client"
      ],
      "metadata": {
        "colab": {
          "base_uri": "https://localhost:8080/"
        },
        "id": "0dmd818OoRiy",
        "outputId": "9ccb8687-2e94-4e5a-8baa-2dd4a9e49cb4"
      },
      "execution_count": 1,
      "outputs": [
        {
          "output_type": "stream",
          "name": "stdout",
          "text": [
            "Collecting pinecone-client\n",
            "  Downloading pinecone_client-4.0.0-py3-none-any.whl (214 kB)\n",
            "\u001b[2K     \u001b[90m━━━━━━━━━━━━━━━━━━━━━━━━━━━━━━━━━━━━━━━━\u001b[0m \u001b[32m214.5/214.5 kB\u001b[0m \u001b[31m2.9 MB/s\u001b[0m eta \u001b[36m0:00:00\u001b[0m\n",
            "\u001b[?25hRequirement already satisfied: certifi>=2019.11.17 in /usr/local/lib/python3.10/dist-packages (from pinecone-client) (2024.2.2)\n",
            "Requirement already satisfied: tqdm>=4.64.1 in /usr/local/lib/python3.10/dist-packages (from pinecone-client) (4.66.4)\n",
            "Requirement already satisfied: typing-extensions>=3.7.4 in /usr/local/lib/python3.10/dist-packages (from pinecone-client) (4.11.0)\n",
            "Requirement already satisfied: urllib3>=1.26.0 in /usr/local/lib/python3.10/dist-packages (from pinecone-client) (2.0.7)\n",
            "Installing collected packages: pinecone-client\n",
            "Successfully installed pinecone-client-4.0.0\n"
          ]
        }
      ]
    },
    {
      "cell_type": "code",
      "source": [
        "from pinecone import Pinecone, ServerlessSpec\n",
        "from google.colab import userdata\n"
      ],
      "metadata": {
        "id": "VblHDJP4oTzj"
      },
      "execution_count": 2,
      "outputs": []
    },
    {
      "cell_type": "code",
      "source": [
        "pc = Pinecone(api_key=userdata.get('pinecone_api_key'))"
      ],
      "metadata": {
        "id": "d19BpMauosIi"
      },
      "execution_count": 3,
      "outputs": []
    },
    {
      "cell_type": "code",
      "source": [
        "index_name = 'my-index'"
      ],
      "metadata": {
        "id": "DEE0euCLCvzK"
      },
      "execution_count": 7,
      "outputs": []
    },
    {
      "cell_type": "code",
      "source": [
        "\n",
        "pc.create_index(index_name,\n",
        "                dimension=5,\n",
        "                metric='cosine',\n",
        "                spec=ServerlessSpec(\n",
        "                  cloud='aws',\n",
        "                  region='us-east-1')\n",
        "                )"
      ],
      "metadata": {
        "id": "SmE6oRmQqii8"
      },
      "execution_count": 23,
      "outputs": []
    },
    {
      "cell_type": "code",
      "source": [
        "index = pc.Index(index_name)"
      ],
      "metadata": {
        "id": "caahBi-IqtiZ"
      },
      "execution_count": 8,
      "outputs": []
    },
    {
      "cell_type": "markdown",
      "source": [
        "## add vectors to index\n",
        "vectors are assigned to ids\n",
        "-> tupel\n",
        "(id, [vectorlist], {optional metadata})"
      ],
      "metadata": {
        "id": "nqHwUMjfug6V"
      }
    },
    {
      "cell_type": "code",
      "source": [
        "index.upsert( [\n",
        "    ('my-1', [2.,3.,1.,0.,9.], {'some_metadata': 'A' }),\n",
        "    ('my-2', [5.,8.,12.,11.,21.], {'some_metadata': 'B'} )\n",
        "  ]\n",
        ")"
      ],
      "metadata": {
        "colab": {
          "base_uri": "https://localhost:8080/"
        },
        "id": "lUjZduynq3a7",
        "outputId": "b44b6e25-45be-4bb3-8f4c-2796767d17a4"
      },
      "execution_count": 52,
      "outputs": [
        {
          "output_type": "execute_result",
          "data": {
            "text/plain": [
              "{'upserted_count': 2}"
            ]
          },
          "metadata": {},
          "execution_count": 52
        }
      ]
    },
    {
      "cell_type": "code",
      "source": [
        "index.fetch(['2'])"
      ],
      "metadata": {
        "colab": {
          "base_uri": "https://localhost:8080/"
        },
        "id": "AlFeomtXvSbr",
        "outputId": "3b3b433e-994f-4fd5-8ef5-edb3239777f8"
      },
      "execution_count": 36,
      "outputs": [
        {
          "output_type": "execute_result",
          "data": {
            "text/plain": [
              "{'namespace': '',\n",
              " 'usage': {'read_units': 1},\n",
              " 'vectors': {'2': {'id': '2',\n",
              "                   'metadata': {'some_metadata': 'B'},\n",
              "                   'values': [5.0, 8.0, 12.0, 11.0, 21.0]}}}"
            ]
          },
          "metadata": {},
          "execution_count": 36
        }
      ]
    },
    {
      "cell_type": "code",
      "source": [
        "index.describe_index_stats()"
      ],
      "metadata": {
        "colab": {
          "base_uri": "https://localhost:8080/"
        },
        "id": "j8AiaIE5vUpl",
        "outputId": "a96c8e58-1a1c-4571-c69b-81ec1d35f7ed"
      },
      "execution_count": 37,
      "outputs": [
        {
          "output_type": "execute_result",
          "data": {
            "text/plain": [
              "{'dimension': 5,\n",
              " 'index_fullness': 0.0,\n",
              " 'namespaces': {'': {'vector_count': 2}},\n",
              " 'total_vector_count': 2}"
            ]
          },
          "metadata": {},
          "execution_count": 37
        }
      ]
    },
    {
      "cell_type": "code",
      "source": [
        "# lets create 10 more vectors with dimension 5\n",
        "import numpy as np\n",
        "import pandas as pd\n",
        "import random\n",
        "\n",
        "\n",
        "dimension = 5\n",
        "n_vectors = 10\n",
        "offset = index.describe_index_stats()['total_vector_count']\n",
        "\n",
        "df = pd.DataFrame(\n",
        "    {\n",
        "        'id': [f'my-{i}' for i in range(offset, offset+n_vectors)],\n",
        "        'values': np.random.normal(loc=10, scale=1, size=(10, 5)).tolist(),\n",
        "        'metadata': [{'source': random.choice(['A', 'B', 'C'])} for _ in range(0, n_vectors)]\n",
        "    }\n",
        ")\n",
        "#mistake in docstrings\n",
        "#https://github.com/pinecone-io/pinecone-python-client/blob/06c69fbbe5c3fa57717ba71596d94f03ee50aaa3/pinecone/data/index.py#L211#\n",
        "index.upsert_from_dataframe(df, show_progress=True)"
      ],
      "metadata": {
        "colab": {
          "base_uri": "https://localhost:8080/",
          "height": 66,
          "referenced_widgets": [
            "430af275e9cd41d184a62f790c865a98",
            "9808c55baa7f437f83b4de1e92c003b4",
            "f76a137b19fa46b19887bf928403e3e1",
            "6ac1f47929434073827351668d5abe06",
            "1b4cc3f140804592845eb7f9200cae0d",
            "fa8b61b569ac41198e581e494420bcfe",
            "ec5a0ffebcb9473b8fce7c6b3acf69d8",
            "2bb6e13fff134841a70efef1e54e93a2",
            "e3261635c53645ff9aa881aa84d78379",
            "1a4449baac1447009009aa7a4e6763b8",
            "594e214ac88a45259b67ab27879417f4"
          ]
        },
        "id": "purh2M59x_yA",
        "outputId": "820397c2-ddcc-44c6-85cf-b535d2935ddc"
      },
      "execution_count": 54,
      "outputs": [
        {
          "output_type": "display_data",
          "data": {
            "text/plain": [
              "sending upsert requests:   0%|          | 0/10 [00:00<?, ?it/s]"
            ],
            "application/vnd.jupyter.widget-view+json": {
              "version_major": 2,
              "version_minor": 0,
              "model_id": "430af275e9cd41d184a62f790c865a98"
            }
          },
          "metadata": {}
        },
        {
          "output_type": "execute_result",
          "data": {
            "text/plain": [
              "{'upserted_count': 10}"
            ]
          },
          "metadata": {},
          "execution_count": 54
        }
      ]
    },
    {
      "cell_type": "markdown",
      "source": [
        "## query the index"
      ],
      "metadata": {
        "id": "FlkvA7vNLSgF"
      }
    },
    {
      "cell_type": "code",
      "source": [
        "query_vector = np.random.normal(loc=10, scale=1, size=(1, 5))"
      ],
      "metadata": {
        "id": "Wts007IeFEQ6"
      },
      "execution_count": 36,
      "outputs": []
    },
    {
      "cell_type": "code",
      "source": [
        "index.query(vector=query_vector.tolist(),\n",
        "              top_k=2,\n",
        "              include_values=True,\n",
        "              include_metadata=True,)"
      ],
      "metadata": {
        "colab": {
          "base_uri": "https://localhost:8080/"
        },
        "id": "4eUBIqOsLkN4",
        "outputId": "e510bbe9-20d1-41ba-afc4-2f3166824a1c"
      },
      "execution_count": 58,
      "outputs": [
        {
          "output_type": "execute_result",
          "data": {
            "text/plain": [
              "{'matches': [{'id': 'my-4',\n",
              "              'metadata': {'source': 'C'},\n",
              "              'score': 0.998865068,\n",
              "              'values': [10.1225519,\n",
              "                         10.5818329,\n",
              "                         9.66793251,\n",
              "                         10.4530144,\n",
              "                         10.9275446]},\n",
              "             {'id': 'my-3',\n",
              "              'metadata': {'source': 'B'},\n",
              "              'score': 0.997716844,\n",
              "              'values': [11.0463171,\n",
              "                         9.62251,\n",
              "                         9.61125374,\n",
              "                         10.3891125,\n",
              "                         9.76752567]}],\n",
              " 'namespace': '',\n",
              " 'usage': {'read_units': 6}}"
            ]
          },
          "metadata": {},
          "execution_count": 58
        }
      ]
    },
    {
      "cell_type": "code",
      "source": [
        "index.query(vector=query_vector.tolist(),\n",
        "              top_k=2,\n",
        "              include_values=True,\n",
        "              include_metadata=True,\n",
        "              filter={'source': 'A'} )\n",
        "\n",
        "\n"
      ],
      "metadata": {
        "colab": {
          "base_uri": "https://localhost:8080/"
        },
        "id": "khF9kWX4MBkz",
        "outputId": "ded9cb4a-7701-4595-844d-3d36d6f89fb1"
      },
      "execution_count": 59,
      "outputs": [
        {
          "output_type": "execute_result",
          "data": {
            "text/plain": [
              "{'matches': [{'id': 'my-7',\n",
              "              'metadata': {'source': 'A'},\n",
              "              'score': 0.996453702,\n",
              "              'values': [9.36811638,\n",
              "                         10.5229712,\n",
              "                         9.26913738,\n",
              "                         8.89493275,\n",
              "                         9.12673473]},\n",
              "             {'id': 'my-5',\n",
              "              'metadata': {'source': 'A'},\n",
              "              'score': 0.993597806,\n",
              "              'values': [9.09589672,\n",
              "                         10.3351488,\n",
              "                         7.96700716,\n",
              "                         10.933691,\n",
              "                         9.64216]}],\n",
              " 'namespace': '',\n",
              " 'usage': {'read_units': 6}}"
            ]
          },
          "metadata": {},
          "execution_count": 59
        }
      ]
    },
    {
      "cell_type": "code",
      "source": [
        "#index.delete(delete_all=True)"
      ],
      "metadata": {
        "id": "Z2rQYADYQWcv"
      },
      "execution_count": null,
      "outputs": []
    },
    {
      "cell_type": "code",
      "source": [
        "index.query(vector=query_vector.tolist(),\n",
        "              top_k=2,\n",
        "              include_values=True,\n",
        "              include_metadata=True,\n",
        "              filter={'source': {'$ne': 'A'}} ) # not A"
      ],
      "metadata": {
        "colab": {
          "base_uri": "https://localhost:8080/"
        },
        "id": "upoP2CLWRG4A",
        "outputId": "df61393f-fc09-4c70-92bb-542600644d9a"
      },
      "execution_count": 60,
      "outputs": [
        {
          "output_type": "execute_result",
          "data": {
            "text/plain": [
              "{'matches': [{'id': 'my-4',\n",
              "              'metadata': {'source': 'C'},\n",
              "              'score': 0.998865068,\n",
              "              'values': [10.1225519,\n",
              "                         10.5818329,\n",
              "                         9.66793251,\n",
              "                         10.4530144,\n",
              "                         10.9275446]},\n",
              "             {'id': 'my-3',\n",
              "              'metadata': {'source': 'B'},\n",
              "              'score': 0.997716844,\n",
              "              'values': [11.0463171,\n",
              "                         9.62251,\n",
              "                         9.61125374,\n",
              "                         10.3891125,\n",
              "                         9.76752567]}],\n",
              " 'namespace': '',\n",
              " 'usage': {'read_units': 6}}"
            ]
          },
          "metadata": {},
          "execution_count": 60
        }
      ]
    },
    {
      "cell_type": "code",
      "source": [],
      "metadata": {
        "id": "P0BUjHyRUClI"
      },
      "execution_count": null,
      "outputs": []
    }
  ]
}