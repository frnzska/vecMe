{
  "cells": [
    {
      "cell_type": "markdown",
      "metadata": {
        "id": "xadbBNGQuiEi"
      },
      "source": [
        "Book recommendations via semantic search based on book title + book description\n",
        "\n",
        "\n",
        "\n",
        "1.   Create Index\n",
        "2.   Book Embeddings\n",
        "3.   Upload to Index\n",
        "4.   Search Query Embedding\n",
        "5.   Query Index\n",
        "\n"
      ]
    },
    {
      "cell_type": "code",
      "execution_count": null,
      "metadata": {
        "id": "aPzUDzR-uieK"
      },
      "outputs": [],
      "source": [
        "!pip install sentence-transformers\n",
        "!pip install pinecone-client"
      ]
    },
    {
      "cell_type": "code",
      "execution_count": null,
      "metadata": {
        "id": "sSZjJzqJnbAB"
      },
      "outputs": [],
      "source": [
        "import pandas as pd\n",
        "# books file from https://www.kaggle.com/datasets/dylanjcastillo/7k-books-with-metadata\n",
        "\n",
        "df = pd.read_csv('/content/books.csv',\n",
        "                   encoding='latin-1',\n",
        "                   sep=',',\n",
        "                   on_bad_lines='skip')\n",
        "\n"
      ]
    },
    {
      "cell_type": "markdown",
      "metadata": {
        "id": "qLfxmsqrLW_1"
      },
      "source": [
        "## Create Index"
      ]
    },
    {
      "cell_type": "code",
      "execution_count": 3,
      "metadata": {
        "id": "482KNt2Wrksr"
      },
      "outputs": [],
      "source": [
        "from pinecone import Pinecone, ServerlessSpec\n",
        "from google.colab import userdata"
      ]
    },
    {
      "cell_type": "code",
      "execution_count": 4,
      "metadata": {
        "id": "-ef_AEiyuBnY"
      },
      "outputs": [],
      "source": [
        "pc = Pinecone(api_key=userdata.get('pinecone_api_key'))"
      ]
    },
    {
      "cell_type": "code",
      "execution_count": 5,
      "metadata": {
        "id": "qBaPtE-uBmQw"
      },
      "outputs": [],
      "source": [
        "index_name = 'books-index'"
      ]
    },
    {
      "cell_type": "code",
      "execution_count": null,
      "metadata": {
        "id": "wyW2SsC1EZ7V"
      },
      "outputs": [],
      "source": [
        "from sentence_transformers import SentenceTransformer\n",
        "model = SentenceTransformer('all-MiniLM-L6-v2')"
      ]
    },
    {
      "cell_type": "code",
      "execution_count": null,
      "metadata": {
        "colab": {
          "base_uri": "https://localhost:8080/"
        },
        "id": "h3-hnbsPFA3x",
        "outputId": "b6315349-2b7e-450e-aa3b-88e9b2b701de"
      },
      "outputs": [
        {
          "data": {
            "text/plain": [
              "SentenceTransformer(\n",
              "  (0): Transformer({'max_seq_length': 256, 'do_lower_case': False}) with Transformer model: BertModel \n",
              "  (1): Pooling({'word_embedding_dimension': 384, 'pooling_mode_cls_token': False, 'pooling_mode_mean_tokens': True, 'pooling_mode_max_tokens': False, 'pooling_mode_mean_sqrt_len_tokens': False, 'pooling_mode_weightedmean_tokens': False, 'pooling_mode_lasttoken': False, 'include_prompt': True})\n",
              "  (2): Normalize()\n",
              ")"
            ]
          },
          "execution_count": 28,
          "metadata": {},
          "output_type": "execute_result"
        }
      ],
      "source": [
        "model"
      ]
    },
    {
      "cell_type": "code",
      "execution_count": 8,
      "metadata": {
        "collapsed": true,
        "id": "zsVmDdpkBrp1"
      },
      "outputs": [],
      "source": [
        "dimensions = 384 # Huggingface Sentence Transformers translates text to 384 dimensions\n",
        "n_vectors = len(df) #6810\n",
        "pc.create_index(index_name,\n",
        "                dimension=dimensions,\n",
        "                metric='cosine',\n",
        "                spec=ServerlessSpec(\n",
        "                  cloud='aws',\n",
        "                  region='us-east-1'))"
      ]
    },
    {
      "cell_type": "markdown",
      "metadata": {
        "id": "Un4WAs-6Ldjh"
      },
      "source": [
        "## Book Embeddings"
      ]
    },
    {
      "cell_type": "code",
      "execution_count": null,
      "metadata": {
        "colab": {
          "base_uri": "https://localhost:8080/"
        },
        "id": "5G1JwHNKB_GR",
        "outputId": "ef8193e6-79b4-4f47-a94b-3b87a366fb45"
      },
      "outputs": [
        {
          "data": {
            "text/plain": [
              "(6810, 400)"
            ]
          },
          "execution_count": 106,
          "metadata": {},
          "output_type": "execute_result"
        }
      ],
      "source": [
        "df.head(3)\n",
        "df.shape"
      ]
    },
    {
      "cell_type": "code",
      "execution_count": null,
      "metadata": {
        "id": "Qw6Xlf_ODy_I"
      },
      "outputs": [],
      "source": [
        "# prepare vectors by concatenating title + substitle + description\n",
        "df['text'] = df['title'].fillna('') + ' ' +  df['subtitle'].fillna('') + ' ' + df['description'].fillna('')\n",
        "df['metadata'] = df.apply(lambda row: {key: row[key] for key in ['authors', 'categories', 'title'] if not pd.isna(row[key])}, axis=1)\n"
      ]
    },
    {
      "cell_type": "code",
      "execution_count": null,
      "metadata": {
        "colab": {
          "base_uri": "https://localhost:8080/",
          "height": 49,
          "referenced_widgets": [
            "e9d0c183092b44c9b4687612548bac7f",
            "0770e367087b4084a486dd0a816ec81a",
            "55c4a773258148c19f494d7d6466513a",
            "e8747fe5c6264d75962d3a181b5f3363",
            "2bccab53fa79407da7c2e82db35bf5e8",
            "42424c3853694f9281b8526ec0ca10eb",
            "9629480b044c46b59ee787721a725dd4",
            "19c378a4c1c1423fa5837f4dcc858275",
            "b2f0680350d440dfadb360e80a464d04",
            "9879b6799dbc4d8887fae29de2532244",
            "3782ace3eaca4c9cb80c68b8b4cb5f3b"
          ]
        },
        "id": "IBVJ0RfTJTk9",
        "outputId": "d345571d-9e10-4d0e-98de-531234516b9e"
      },
      "outputs": [],
      "source": [
        "# embedding\n",
        "embedding_vectors = model.encode(df['text'].tolist(), show_progress_bar=True) #took 7 minutes\n",
        "# persist for later use\n",
        "#import numpy as np\n",
        "#np.save('embedding_vectors_books.npy', embedding_vectors)\n",
        "#embedding_vectors = np.load('embedding_vectors_books.npy')"
      ]
    },
    {
      "cell_type": "code",
      "execution_count": null,
      "metadata": {
        "id": "Jio56BHrP1vk"
      },
      "outputs": [],
      "source": [
        "df['embeddings'] = list(embedding_vectors)"
      ]
    },
    {
      "cell_type": "code",
      "execution_count": null,
      "metadata": {
        "id": "RE3RwkA7Q44Z"
      },
      "outputs": [],
      "source": [
        "df.rename(columns = {\"isbn13\": \"id\", \"embeddings\": \"values\"},  inplace=True)"
      ]
    },
    {
      "cell_type": "code",
      "execution_count": null,
      "metadata": {
        "id": "vQRO8i4lRGtY"
      },
      "outputs": [],
      "source": [
        "df_uploads = df[['id', 'values', 'metadata']]\n",
        "df_uploads['id'].astype(str)"
      ]
    },
    {
      "cell_type": "markdown",
      "metadata": {
        "id": "siCVl6zCurKE"
      },
      "source": [
        "## Upload to Vector store"
      ]
    },
    {
      "cell_type": "code",
      "execution_count": 10,
      "metadata": {
        "id": "4unJpqzpU6XZ"
      },
      "outputs": [],
      "source": [
        "index = pc.Index(index_name)"
      ]
    },
    {
      "cell_type": "code",
      "execution_count": null,
      "metadata": {
        "colab": {
          "base_uri": "https://localhost:8080/",
          "height": 67,
          "referenced_widgets": [
            "6f14d4518c7046eb95960d4700909360",
            "4f810cebbf96450197d2d59d2e958cca",
            "d0838d1af5034ae5b3ba428f2518da3e",
            "f8523dbfa2ed479c96ede834245050cb",
            "ddef0491ead241c9adbf37ba1859c849",
            "b473e8518bd240da86ec6c30e66c5b43",
            "4623df8907f940c197e95dde7200bafb",
            "56f9fc878a6e4a1a9030c07f24de78e2",
            "5df92ed61ba149568bc140101cb47fe7",
            "7d388c6712ab4b9ebac9373931f0a91a",
            "debfbaab5570448dbdc5b07df0c92d2b"
          ]
        },
        "id": "piGzibm_T3Y0",
        "outputId": "35cb398d-3713-4a7c-abc0-fc8194468265"
      },
      "outputs": [],
      "source": [
        "index.upsert_from_dataframe(df_uploads, show_progress=True)"
      ]
    },
    {
      "cell_type": "code",
      "execution_count": 11,
      "metadata": {
        "colab": {
          "base_uri": "https://localhost:8080/"
        },
        "id": "SQaTj3CtsIRY",
        "outputId": "37d41bf6-20fc-40b1-bd7a-d8c061e60520"
      },
      "outputs": [
        {
          "data": {
            "text/plain": [
              "{'dimension': 384,\n",
              " 'index_fullness': 0.0,\n",
              " 'namespaces': {'': {'vector_count': 6810}},\n",
              " 'total_vector_count': 6810}"
            ]
          },
          "execution_count": 11,
          "metadata": {},
          "output_type": "execute_result"
        }
      ],
      "source": [
        "index.describe_index_stats()"
      ]
    },
    {
      "cell_type": "markdown",
      "metadata": {
        "id": "f8-55LjeGtEa"
      },
      "source": [
        "## Search\n",
        "\n"
      ]
    },
    {
      "cell_type": "code",
      "execution_count": 25,
      "metadata": {
        "colab": {
          "base_uri": "https://localhost:8080/"
        },
        "id": "o-2Q5IHzGm82",
        "outputId": "d815c226-6d38-4d25-9f4f-91ba305ed539"
      },
      "outputs": [
        {
          "data": {
            "text/plain": [
              "{'matches': [{'id': '9780500251218',\n",
              "              'metadata': {'authors': 'Richard Buxton',\n",
              "                           'title': 'Greek Mythology'},\n",
              "              'score': 0.805668414,\n",
              "              'values': []},\n",
              "             {'id': '9780517588376',\n",
              "              'metadata': {'authors': 'William F. Russell',\n",
              "                           'categories': 'Fiction',\n",
              "                           'title': 'Classic Myths to Read Aloud: The Great '\n",
              "                                    'Stories of Greek and Roman Mythology, '\n",
              "                                    'Specially Arranged for Children Five and '\n",
              "                                    'Up by an Educational Expert'},\n",
              "              'score': 0.712172031,\n",
              "              'values': []},\n",
              "             {'id': '9780689868832',\n",
              "              'metadata': {'authors': 'Padraic Colum',\n",
              "                           'categories': 'Juvenile Fiction',\n",
              "                           'title': \"The Children's Homer\"},\n",
              "              'score': 0.642288387,\n",
              "              'values': []},\n",
              "             {'id': '9780226307862',\n",
              "              'metadata': {'authors': 'David Grene;Richmond Lattimore',\n",
              "                           'title': 'The Complete Greek Tragedies'},\n",
              "              'score': 0.546394765,\n",
              "              'values': []},\n",
              "             {'id': '9780226307640',\n",
              "              'metadata': {'authors': 'David Grene;Richmond Lattimore',\n",
              "                           'title': 'Complete Greek Tragedies'},\n",
              "              'score': 0.533689439,\n",
              "              'values': []}],\n",
              " 'namespace': '',\n",
              " 'usage': {'read_units': 6}}"
            ]
          },
          "execution_count": 25,
          "metadata": {},
          "output_type": "execute_result"
        }
      ],
      "source": [
        "# Type what you are searching for\n",
        "query_text = 'Greek mythology for kids'\n",
        "query_embedding =  model.encode([query_text]).tolist()\n",
        "index.query(vector=query_embedding, top_k=5, include_metadata=True)"
      ]
    },
    {
      "cell_type": "code",
      "execution_count": 32,
      "metadata": {
        "colab": {
          "base_uri": "https://localhost:8080/"
        },
        "id": "trQMBS0lHkeY",
        "outputId": "f9c0dfcd-e724-4ec1-e000-999f778a9437"
      },
      "outputs": [
        {
          "data": {
            "text/plain": [
              "{'matches': [{'id': '9780231109253',\n",
              "              'metadata': {'authors': 'Emma Donoghue',\n",
              "                           'categories': 'Poetry',\n",
              "                           'title': 'Poems Between Women'},\n",
              "              'score': 0.56277597,\n",
              "              'values': []},\n",
              "             {'id': '9780786881482',\n",
              "              'metadata': {'authors': 'Pablo Neruda',\n",
              "                           'categories': 'Poetry',\n",
              "                           'title': 'Love'},\n",
              "              'score': 0.410627633,\n",
              "              'values': []},\n",
              "             {'id': '9780292760288',\n",
              "              'metadata': {'authors': 'Pablo Neruda',\n",
              "                           'categories': 'Poetry',\n",
              "                           'title': '100 Love Sonnets'},\n",
              "              'score': 0.394990772,\n",
              "              'values': []}],\n",
              " 'namespace': '',\n",
              " 'usage': {'read_units': 6}}"
            ]
          },
          "execution_count": 32,
          "metadata": {},
          "output_type": "execute_result"
        }
      ],
      "source": [
        "# Type what you are searching for\n",
        "query_text = 'something about love and romance'\n",
        "query_embedding =  model.encode([query_text]).tolist()\n",
        "index.query(vector=query_embedding,\n",
        "            top_k=3,\n",
        "            include_metadata=True,\n",
        "            filter={'categories': 'Poetry'})"
      ]
    },
    {
      "cell_type": "code",
      "execution_count": 35,
      "metadata": {
        "colab": {
          "base_uri": "https://localhost:8080/"
        },
        "id": "E2BZMz3CHmv9",
        "outputId": "bf41c770-5f89-4f4f-a899-7a8aded14a45"
      },
      "outputs": [
        {
          "data": {
            "text/plain": [
              "{'matches': [{'id': '9780395530078',\n",
              "              'metadata': {'authors': 'Kimon NicolaÃ¯des',\n",
              "                           'categories': 'Art',\n",
              "                           'title': 'The Natural Way to Draw'},\n",
              "              'score': 0.551862061,\n",
              "              'values': []},\n",
              "             {'id': '9780823006571',\n",
              "              'metadata': {'authors': 'Juliette Aristides',\n",
              "                           'categories': 'Art',\n",
              "                           'title': 'The Classical Drawing Atelier'},\n",
              "              'score': 0.541911244,\n",
              "              'values': []},\n",
              "             {'id': '9780140446425',\n",
              "              'metadata': {'authors': 'Leo Tolstoy;Richard Pevear;Larissa '\n",
              "                                      'Volokhonsky',\n",
              "                           'categories': 'Art',\n",
              "                           'title': 'What is Art?'},\n",
              "              'score': 0.534654677,\n",
              "              'values': []}],\n",
              " 'namespace': '',\n",
              " 'usage': {'read_units': 6}}"
            ]
          },
          "execution_count": 35,
          "metadata": {},
          "output_type": "execute_result"
        }
      ],
      "source": [
        "# Type what you are searching for\n",
        "query_text1 = 'how to learn painting'\n",
        "query_embedding =  model.encode([query_text1]).tolist()\n",
        "index.query(vector=query_embedding,\n",
        "            top_k=3,\n",
        "            include_metadata=True)"
      ]
    },
    {
      "cell_type": "code",
      "execution_count": 38,
      "metadata": {
        "colab": {
          "base_uri": "https://localhost:8080/"
        },
        "id": "xM0KGWggIprr",
        "outputId": "d7b0c77b-9847-4a79-db47-28cb1d0d7643"
      },
      "outputs": [
        {
          "data": {
            "text/plain": [
              "{'matches': [{'id': '9781590593899',\n",
              "              'metadata': {'authors': 'Avram Joel Spolsky',\n",
              "                           'categories': 'Computers',\n",
              "                           'title': 'Joel on Software'},\n",
              "              'score': 0.437090784,\n",
              "              'values': []},\n",
              "             {'id': '9780132370455',\n",
              "              'metadata': {'authors': 'Frank M. Carrano',\n",
              "                           'categories': 'Computers',\n",
              "                           'title': 'Data Structures and Abstractions with '\n",
              "                                    'Java'},\n",
              "              'score': 0.414372027,\n",
              "              'values': []}],\n",
              " 'namespace': '',\n",
              " 'usage': {'read_units': 6}}"
            ]
          },
          "execution_count": 38,
          "metadata": {},
          "output_type": "execute_result"
        }
      ],
      "source": [
        "# Type what you are searching for\n",
        "query_text1 = 'important software engineering principles'\n",
        "query_embedding =  model.encode([query_text1]).tolist()\n",
        "index.query(vector=query_embedding,\n",
        "            top_k=2,\n",
        "            include_metadata=True)"
      ]
    },
    {
      "cell_type": "code",
      "execution_count": null,
      "metadata": {
        "id": "rNCBqtazJtjt"
      },
      "outputs": [],
      "source": []
    }
  ],
  "metadata": {
    "colab": {
      "history_visible": true,
      "provenance": [],
      "toc_visible": true
    },
    "kernelspec": {
      "display_name": "Python 3",
      "name": "python3"
    },
    "language_info": {
      "name": "python"
    },
    "widgets": {
      "application/vnd.jupyter.widget-state+json": {
        "0770e367087b4084a486dd0a816ec81a": {
          "model_module": "@jupyter-widgets/controls",
          "model_module_version": "1.5.0",
          "model_name": "HTMLModel",
          "state": {
            "_dom_classes": [],
            "_model_module": "@jupyter-widgets/controls",
            "_model_module_version": "1.5.0",
            "_model_name": "HTMLModel",
            "_view_count": null,
            "_view_module": "@jupyter-widgets/controls",
            "_view_module_version": "1.5.0",
            "_view_name": "HTMLView",
            "description": "",
            "description_tooltip": null,
            "layout": "IPY_MODEL_42424c3853694f9281b8526ec0ca10eb",
            "placeholder": "​",
            "style": "IPY_MODEL_9629480b044c46b59ee787721a725dd4",
            "value": "Batches: 100%"
          }
        },
        "19c378a4c1c1423fa5837f4dcc858275": {
          "model_module": "@jupyter-widgets/base",
          "model_module_version": "1.2.0",
          "model_name": "LayoutModel",
          "state": {
            "_model_module": "@jupyter-widgets/base",
            "_model_module_version": "1.2.0",
            "_model_name": "LayoutModel",
            "_view_count": null,
            "_view_module": "@jupyter-widgets/base",
            "_view_module_version": "1.2.0",
            "_view_name": "LayoutView",
            "align_content": null,
            "align_items": null,
            "align_self": null,
            "border": null,
            "bottom": null,
            "display": null,
            "flex": null,
            "flex_flow": null,
            "grid_area": null,
            "grid_auto_columns": null,
            "grid_auto_flow": null,
            "grid_auto_rows": null,
            "grid_column": null,
            "grid_gap": null,
            "grid_row": null,
            "grid_template_areas": null,
            "grid_template_columns": null,
            "grid_template_rows": null,
            "height": null,
            "justify_content": null,
            "justify_items": null,
            "left": null,
            "margin": null,
            "max_height": null,
            "max_width": null,
            "min_height": null,
            "min_width": null,
            "object_fit": null,
            "object_position": null,
            "order": null,
            "overflow": null,
            "overflow_x": null,
            "overflow_y": null,
            "padding": null,
            "right": null,
            "top": null,
            "visibility": null,
            "width": null
          }
        },
        "2bccab53fa79407da7c2e82db35bf5e8": {
          "model_module": "@jupyter-widgets/base",
          "model_module_version": "1.2.0",
          "model_name": "LayoutModel",
          "state": {
            "_model_module": "@jupyter-widgets/base",
            "_model_module_version": "1.2.0",
            "_model_name": "LayoutModel",
            "_view_count": null,
            "_view_module": "@jupyter-widgets/base",
            "_view_module_version": "1.2.0",
            "_view_name": "LayoutView",
            "align_content": null,
            "align_items": null,
            "align_self": null,
            "border": null,
            "bottom": null,
            "display": null,
            "flex": null,
            "flex_flow": null,
            "grid_area": null,
            "grid_auto_columns": null,
            "grid_auto_flow": null,
            "grid_auto_rows": null,
            "grid_column": null,
            "grid_gap": null,
            "grid_row": null,
            "grid_template_areas": null,
            "grid_template_columns": null,
            "grid_template_rows": null,
            "height": null,
            "justify_content": null,
            "justify_items": null,
            "left": null,
            "margin": null,
            "max_height": null,
            "max_width": null,
            "min_height": null,
            "min_width": null,
            "object_fit": null,
            "object_position": null,
            "order": null,
            "overflow": null,
            "overflow_x": null,
            "overflow_y": null,
            "padding": null,
            "right": null,
            "top": null,
            "visibility": null,
            "width": null
          }
        },
        "3782ace3eaca4c9cb80c68b8b4cb5f3b": {
          "model_module": "@jupyter-widgets/controls",
          "model_module_version": "1.5.0",
          "model_name": "DescriptionStyleModel",
          "state": {
            "_model_module": "@jupyter-widgets/controls",
            "_model_module_version": "1.5.0",
            "_model_name": "DescriptionStyleModel",
            "_view_count": null,
            "_view_module": "@jupyter-widgets/base",
            "_view_module_version": "1.2.0",
            "_view_name": "StyleView",
            "description_width": ""
          }
        },
        "42424c3853694f9281b8526ec0ca10eb": {
          "model_module": "@jupyter-widgets/base",
          "model_module_version": "1.2.0",
          "model_name": "LayoutModel",
          "state": {
            "_model_module": "@jupyter-widgets/base",
            "_model_module_version": "1.2.0",
            "_model_name": "LayoutModel",
            "_view_count": null,
            "_view_module": "@jupyter-widgets/base",
            "_view_module_version": "1.2.0",
            "_view_name": "LayoutView",
            "align_content": null,
            "align_items": null,
            "align_self": null,
            "border": null,
            "bottom": null,
            "display": null,
            "flex": null,
            "flex_flow": null,
            "grid_area": null,
            "grid_auto_columns": null,
            "grid_auto_flow": null,
            "grid_auto_rows": null,
            "grid_column": null,
            "grid_gap": null,
            "grid_row": null,
            "grid_template_areas": null,
            "grid_template_columns": null,
            "grid_template_rows": null,
            "height": null,
            "justify_content": null,
            "justify_items": null,
            "left": null,
            "margin": null,
            "max_height": null,
            "max_width": null,
            "min_height": null,
            "min_width": null,
            "object_fit": null,
            "object_position": null,
            "order": null,
            "overflow": null,
            "overflow_x": null,
            "overflow_y": null,
            "padding": null,
            "right": null,
            "top": null,
            "visibility": null,
            "width": null
          }
        },
        "4623df8907f940c197e95dde7200bafb": {
          "model_module": "@jupyter-widgets/controls",
          "model_module_version": "1.5.0",
          "model_name": "DescriptionStyleModel",
          "state": {
            "_model_module": "@jupyter-widgets/controls",
            "_model_module_version": "1.5.0",
            "_model_name": "DescriptionStyleModel",
            "_view_count": null,
            "_view_module": "@jupyter-widgets/base",
            "_view_module_version": "1.2.0",
            "_view_name": "StyleView",
            "description_width": ""
          }
        },
        "4f810cebbf96450197d2d59d2e958cca": {
          "model_module": "@jupyter-widgets/controls",
          "model_module_version": "1.5.0",
          "model_name": "HTMLModel",
          "state": {
            "_dom_classes": [],
            "_model_module": "@jupyter-widgets/controls",
            "_model_module_version": "1.5.0",
            "_model_name": "HTMLModel",
            "_view_count": null,
            "_view_module": "@jupyter-widgets/controls",
            "_view_module_version": "1.5.0",
            "_view_name": "HTMLView",
            "description": "",
            "description_tooltip": null,
            "layout": "IPY_MODEL_b473e8518bd240da86ec6c30e66c5b43",
            "placeholder": "​",
            "style": "IPY_MODEL_4623df8907f940c197e95dde7200bafb",
            "value": "sending upsert requests: 100%"
          }
        },
        "55c4a773258148c19f494d7d6466513a": {
          "model_module": "@jupyter-widgets/controls",
          "model_module_version": "1.5.0",
          "model_name": "FloatProgressModel",
          "state": {
            "_dom_classes": [],
            "_model_module": "@jupyter-widgets/controls",
            "_model_module_version": "1.5.0",
            "_model_name": "FloatProgressModel",
            "_view_count": null,
            "_view_module": "@jupyter-widgets/controls",
            "_view_module_version": "1.5.0",
            "_view_name": "ProgressView",
            "bar_style": "success",
            "description": "",
            "description_tooltip": null,
            "layout": "IPY_MODEL_19c378a4c1c1423fa5837f4dcc858275",
            "max": 213,
            "min": 0,
            "orientation": "horizontal",
            "style": "IPY_MODEL_b2f0680350d440dfadb360e80a464d04",
            "value": 213
          }
        },
        "56f9fc878a6e4a1a9030c07f24de78e2": {
          "model_module": "@jupyter-widgets/base",
          "model_module_version": "1.2.0",
          "model_name": "LayoutModel",
          "state": {
            "_model_module": "@jupyter-widgets/base",
            "_model_module_version": "1.2.0",
            "_model_name": "LayoutModel",
            "_view_count": null,
            "_view_module": "@jupyter-widgets/base",
            "_view_module_version": "1.2.0",
            "_view_name": "LayoutView",
            "align_content": null,
            "align_items": null,
            "align_self": null,
            "border": null,
            "bottom": null,
            "display": null,
            "flex": null,
            "flex_flow": null,
            "grid_area": null,
            "grid_auto_columns": null,
            "grid_auto_flow": null,
            "grid_auto_rows": null,
            "grid_column": null,
            "grid_gap": null,
            "grid_row": null,
            "grid_template_areas": null,
            "grid_template_columns": null,
            "grid_template_rows": null,
            "height": null,
            "justify_content": null,
            "justify_items": null,
            "left": null,
            "margin": null,
            "max_height": null,
            "max_width": null,
            "min_height": null,
            "min_width": null,
            "object_fit": null,
            "object_position": null,
            "order": null,
            "overflow": null,
            "overflow_x": null,
            "overflow_y": null,
            "padding": null,
            "right": null,
            "top": null,
            "visibility": null,
            "width": null
          }
        },
        "5df92ed61ba149568bc140101cb47fe7": {
          "model_module": "@jupyter-widgets/controls",
          "model_module_version": "1.5.0",
          "model_name": "ProgressStyleModel",
          "state": {
            "_model_module": "@jupyter-widgets/controls",
            "_model_module_version": "1.5.0",
            "_model_name": "ProgressStyleModel",
            "_view_count": null,
            "_view_module": "@jupyter-widgets/base",
            "_view_module_version": "1.2.0",
            "_view_name": "StyleView",
            "bar_color": null,
            "description_width": ""
          }
        },
        "6f14d4518c7046eb95960d4700909360": {
          "model_module": "@jupyter-widgets/controls",
          "model_module_version": "1.5.0",
          "model_name": "HBoxModel",
          "state": {
            "_dom_classes": [],
            "_model_module": "@jupyter-widgets/controls",
            "_model_module_version": "1.5.0",
            "_model_name": "HBoxModel",
            "_view_count": null,
            "_view_module": "@jupyter-widgets/controls",
            "_view_module_version": "1.5.0",
            "_view_name": "HBoxView",
            "box_style": "",
            "children": [
              "IPY_MODEL_4f810cebbf96450197d2d59d2e958cca",
              "IPY_MODEL_d0838d1af5034ae5b3ba428f2518da3e",
              "IPY_MODEL_f8523dbfa2ed479c96ede834245050cb"
            ],
            "layout": "IPY_MODEL_ddef0491ead241c9adbf37ba1859c849"
          }
        },
        "7d388c6712ab4b9ebac9373931f0a91a": {
          "model_module": "@jupyter-widgets/base",
          "model_module_version": "1.2.0",
          "model_name": "LayoutModel",
          "state": {
            "_model_module": "@jupyter-widgets/base",
            "_model_module_version": "1.2.0",
            "_model_name": "LayoutModel",
            "_view_count": null,
            "_view_module": "@jupyter-widgets/base",
            "_view_module_version": "1.2.0",
            "_view_name": "LayoutView",
            "align_content": null,
            "align_items": null,
            "align_self": null,
            "border": null,
            "bottom": null,
            "display": null,
            "flex": null,
            "flex_flow": null,
            "grid_area": null,
            "grid_auto_columns": null,
            "grid_auto_flow": null,
            "grid_auto_rows": null,
            "grid_column": null,
            "grid_gap": null,
            "grid_row": null,
            "grid_template_areas": null,
            "grid_template_columns": null,
            "grid_template_rows": null,
            "height": null,
            "justify_content": null,
            "justify_items": null,
            "left": null,
            "margin": null,
            "max_height": null,
            "max_width": null,
            "min_height": null,
            "min_width": null,
            "object_fit": null,
            "object_position": null,
            "order": null,
            "overflow": null,
            "overflow_x": null,
            "overflow_y": null,
            "padding": null,
            "right": null,
            "top": null,
            "visibility": null,
            "width": null
          }
        },
        "9629480b044c46b59ee787721a725dd4": {
          "model_module": "@jupyter-widgets/controls",
          "model_module_version": "1.5.0",
          "model_name": "DescriptionStyleModel",
          "state": {
            "_model_module": "@jupyter-widgets/controls",
            "_model_module_version": "1.5.0",
            "_model_name": "DescriptionStyleModel",
            "_view_count": null,
            "_view_module": "@jupyter-widgets/base",
            "_view_module_version": "1.2.0",
            "_view_name": "StyleView",
            "description_width": ""
          }
        },
        "9879b6799dbc4d8887fae29de2532244": {
          "model_module": "@jupyter-widgets/base",
          "model_module_version": "1.2.0",
          "model_name": "LayoutModel",
          "state": {
            "_model_module": "@jupyter-widgets/base",
            "_model_module_version": "1.2.0",
            "_model_name": "LayoutModel",
            "_view_count": null,
            "_view_module": "@jupyter-widgets/base",
            "_view_module_version": "1.2.0",
            "_view_name": "LayoutView",
            "align_content": null,
            "align_items": null,
            "align_self": null,
            "border": null,
            "bottom": null,
            "display": null,
            "flex": null,
            "flex_flow": null,
            "grid_area": null,
            "grid_auto_columns": null,
            "grid_auto_flow": null,
            "grid_auto_rows": null,
            "grid_column": null,
            "grid_gap": null,
            "grid_row": null,
            "grid_template_areas": null,
            "grid_template_columns": null,
            "grid_template_rows": null,
            "height": null,
            "justify_content": null,
            "justify_items": null,
            "left": null,
            "margin": null,
            "max_height": null,
            "max_width": null,
            "min_height": null,
            "min_width": null,
            "object_fit": null,
            "object_position": null,
            "order": null,
            "overflow": null,
            "overflow_x": null,
            "overflow_y": null,
            "padding": null,
            "right": null,
            "top": null,
            "visibility": null,
            "width": null
          }
        },
        "b2f0680350d440dfadb360e80a464d04": {
          "model_module": "@jupyter-widgets/controls",
          "model_module_version": "1.5.0",
          "model_name": "ProgressStyleModel",
          "state": {
            "_model_module": "@jupyter-widgets/controls",
            "_model_module_version": "1.5.0",
            "_model_name": "ProgressStyleModel",
            "_view_count": null,
            "_view_module": "@jupyter-widgets/base",
            "_view_module_version": "1.2.0",
            "_view_name": "StyleView",
            "bar_color": null,
            "description_width": ""
          }
        },
        "b473e8518bd240da86ec6c30e66c5b43": {
          "model_module": "@jupyter-widgets/base",
          "model_module_version": "1.2.0",
          "model_name": "LayoutModel",
          "state": {
            "_model_module": "@jupyter-widgets/base",
            "_model_module_version": "1.2.0",
            "_model_name": "LayoutModel",
            "_view_count": null,
            "_view_module": "@jupyter-widgets/base",
            "_view_module_version": "1.2.0",
            "_view_name": "LayoutView",
            "align_content": null,
            "align_items": null,
            "align_self": null,
            "border": null,
            "bottom": null,
            "display": null,
            "flex": null,
            "flex_flow": null,
            "grid_area": null,
            "grid_auto_columns": null,
            "grid_auto_flow": null,
            "grid_auto_rows": null,
            "grid_column": null,
            "grid_gap": null,
            "grid_row": null,
            "grid_template_areas": null,
            "grid_template_columns": null,
            "grid_template_rows": null,
            "height": null,
            "justify_content": null,
            "justify_items": null,
            "left": null,
            "margin": null,
            "max_height": null,
            "max_width": null,
            "min_height": null,
            "min_width": null,
            "object_fit": null,
            "object_position": null,
            "order": null,
            "overflow": null,
            "overflow_x": null,
            "overflow_y": null,
            "padding": null,
            "right": null,
            "top": null,
            "visibility": null,
            "width": null
          }
        },
        "d0838d1af5034ae5b3ba428f2518da3e": {
          "model_module": "@jupyter-widgets/controls",
          "model_module_version": "1.5.0",
          "model_name": "FloatProgressModel",
          "state": {
            "_dom_classes": [],
            "_model_module": "@jupyter-widgets/controls",
            "_model_module_version": "1.5.0",
            "_model_name": "FloatProgressModel",
            "_view_count": null,
            "_view_module": "@jupyter-widgets/controls",
            "_view_module_version": "1.5.0",
            "_view_name": "ProgressView",
            "bar_style": "",
            "description": "",
            "description_tooltip": null,
            "layout": "IPY_MODEL_56f9fc878a6e4a1a9030c07f24de78e2",
            "max": 6810,
            "min": 0,
            "orientation": "horizontal",
            "style": "IPY_MODEL_5df92ed61ba149568bc140101cb47fe7",
            "value": 6810
          }
        },
        "ddef0491ead241c9adbf37ba1859c849": {
          "model_module": "@jupyter-widgets/base",
          "model_module_version": "1.2.0",
          "model_name": "LayoutModel",
          "state": {
            "_model_module": "@jupyter-widgets/base",
            "_model_module_version": "1.2.0",
            "_model_name": "LayoutModel",
            "_view_count": null,
            "_view_module": "@jupyter-widgets/base",
            "_view_module_version": "1.2.0",
            "_view_name": "LayoutView",
            "align_content": null,
            "align_items": null,
            "align_self": null,
            "border": null,
            "bottom": null,
            "display": null,
            "flex": null,
            "flex_flow": null,
            "grid_area": null,
            "grid_auto_columns": null,
            "grid_auto_flow": null,
            "grid_auto_rows": null,
            "grid_column": null,
            "grid_gap": null,
            "grid_row": null,
            "grid_template_areas": null,
            "grid_template_columns": null,
            "grid_template_rows": null,
            "height": null,
            "justify_content": null,
            "justify_items": null,
            "left": null,
            "margin": null,
            "max_height": null,
            "max_width": null,
            "min_height": null,
            "min_width": null,
            "object_fit": null,
            "object_position": null,
            "order": null,
            "overflow": null,
            "overflow_x": null,
            "overflow_y": null,
            "padding": null,
            "right": null,
            "top": null,
            "visibility": null,
            "width": null
          }
        },
        "debfbaab5570448dbdc5b07df0c92d2b": {
          "model_module": "@jupyter-widgets/controls",
          "model_module_version": "1.5.0",
          "model_name": "DescriptionStyleModel",
          "state": {
            "_model_module": "@jupyter-widgets/controls",
            "_model_module_version": "1.5.0",
            "_model_name": "DescriptionStyleModel",
            "_view_count": null,
            "_view_module": "@jupyter-widgets/base",
            "_view_module_version": "1.2.0",
            "_view_name": "StyleView",
            "description_width": ""
          }
        },
        "e8747fe5c6264d75962d3a181b5f3363": {
          "model_module": "@jupyter-widgets/controls",
          "model_module_version": "1.5.0",
          "model_name": "HTMLModel",
          "state": {
            "_dom_classes": [],
            "_model_module": "@jupyter-widgets/controls",
            "_model_module_version": "1.5.0",
            "_model_name": "HTMLModel",
            "_view_count": null,
            "_view_module": "@jupyter-widgets/controls",
            "_view_module_version": "1.5.0",
            "_view_name": "HTMLView",
            "description": "",
            "description_tooltip": null,
            "layout": "IPY_MODEL_9879b6799dbc4d8887fae29de2532244",
            "placeholder": "​",
            "style": "IPY_MODEL_3782ace3eaca4c9cb80c68b8b4cb5f3b",
            "value": " 213/213 [07:04&lt;00:00,  6.90it/s]"
          }
        },
        "e9d0c183092b44c9b4687612548bac7f": {
          "model_module": "@jupyter-widgets/controls",
          "model_module_version": "1.5.0",
          "model_name": "HBoxModel",
          "state": {
            "_dom_classes": [],
            "_model_module": "@jupyter-widgets/controls",
            "_model_module_version": "1.5.0",
            "_model_name": "HBoxModel",
            "_view_count": null,
            "_view_module": "@jupyter-widgets/controls",
            "_view_module_version": "1.5.0",
            "_view_name": "HBoxView",
            "box_style": "",
            "children": [
              "IPY_MODEL_0770e367087b4084a486dd0a816ec81a",
              "IPY_MODEL_55c4a773258148c19f494d7d6466513a",
              "IPY_MODEL_e8747fe5c6264d75962d3a181b5f3363"
            ],
            "layout": "IPY_MODEL_2bccab53fa79407da7c2e82db35bf5e8"
          }
        },
        "f8523dbfa2ed479c96ede834245050cb": {
          "model_module": "@jupyter-widgets/controls",
          "model_module_version": "1.5.0",
          "model_name": "HTMLModel",
          "state": {
            "_dom_classes": [],
            "_model_module": "@jupyter-widgets/controls",
            "_model_module_version": "1.5.0",
            "_model_name": "HTMLModel",
            "_view_count": null,
            "_view_module": "@jupyter-widgets/controls",
            "_view_module_version": "1.5.0",
            "_view_name": "HTMLView",
            "description": "",
            "description_tooltip": null,
            "layout": "IPY_MODEL_7d388c6712ab4b9ebac9373931f0a91a",
            "placeholder": "​",
            "style": "IPY_MODEL_debfbaab5570448dbdc5b07df0c92d2b",
            "value": " 6810/6810 [00:34&lt;00:00, 364.50it/s]"
          }
        }
      }
    }
  },
  "nbformat": 4,
  "nbformat_minor": 0
}
