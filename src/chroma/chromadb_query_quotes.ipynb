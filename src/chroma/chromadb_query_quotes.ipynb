{
  "nbformat": 4,
  "nbformat_minor": 0,
  "metadata": {
    "colab": {
      "provenance": [],
      "toc_visible": true
    },
    "kernelspec": {
      "name": "python3",
      "display_name": "Python 3"
    },
    "language_info": {
      "name": "python"
    }
  },
  "cells": [
    {
      "cell_type": "code",
      "source": [
        "!pip install chromadb -q\n",
        "!pip install sentence-transformers -q"
      ],
      "metadata": {
        "id": "BC2wpKmxZGDX"
      },
      "execution_count": null,
      "outputs": []
    },
    {
      "cell_type": "code",
      "source": [
        "#imports\n",
        "import chromadb\n",
        "import pandas as pd\n",
        "from itertools import chain"
      ],
      "metadata": {
        "id": "F2UIL8C2MrNT"
      },
      "execution_count": null,
      "outputs": []
    },
    {
      "cell_type": "code",
      "source": [
        "client = chromadb.Client() # default in memory\n",
        "collection = client.create_collection('quotes')"
      ],
      "metadata": {
        "id": "rBoSdD8aH7Vw"
      },
      "execution_count": null,
      "outputs": []
    },
    {
      "cell_type": "code",
      "source": [
        "#client.delete_collection('quotes')"
      ],
      "metadata": {
        "id": "ib9vRGgCJVSq"
      },
      "execution_count": null,
      "outputs": []
    },
    {
      "cell_type": "code",
      "source": [
        "df = pd.read_csv('sample_data/quotes.csv')\n",
        "df.head(5)"
      ],
      "metadata": {
        "id": "dip08QX4JT29"
      },
      "execution_count": null,
      "outputs": []
    },
    {
      "cell_type": "code",
      "source": [
        "# add quotes as documents and person, topic as metadata collection itmes\n",
        "# in-build embeddings\n",
        "collection.add(\n",
        "    ids=[str(i) for i in range(0, len(df))],\n",
        "    documents=df['quote'].to_list(),\n",
        "    metadatas=[{'person': p, 'topic': t} for p,t in zip(df['person'].to_list(), df['topic'].to_list())],\n",
        ")\n"
      ],
      "metadata": {
        "id": "X37jLdfKLQlz"
      },
      "execution_count": null,
      "outputs": []
    },
    {
      "cell_type": "code",
      "source": [
        "# show document and mapped embedding\n",
        "collection.get(ids=['1'],include=['documents','embeddings'])\n"
      ],
      "metadata": {
        "id": "02qwI7yXPJk4"
      },
      "execution_count": null,
      "outputs": []
    },
    {
      "cell_type": "code",
      "source": [
        "my_query = 'what is love'\n",
        "results = collection.query(\n",
        "    query_texts=my_query,\n",
        "    n_results=3)\n"
      ],
      "metadata": {
        "id": "4ygPgvY8Lflx"
      },
      "execution_count": null,
      "outputs": []
    },
    {
      "cell_type": "code",
      "source": [
        "for doc in results['documents'][0]:\n",
        "  print(doc)"
      ],
      "metadata": {
        "colab": {
          "base_uri": "https://localhost:8080/"
        },
        "id": "-Z6tZ0IaQ0Hy",
        "outputId": "747443a6-26bf-4d8a-d637-ece81686dbcf"
      },
      "execution_count": null,
      "outputs": [
        {
          "output_type": "stream",
          "name": "stdout",
          "text": [
            "Love is not only something you feel, it is something you do.\n",
            "Love is an irresistible desire to be irresistibly desired.\n",
            "Where there is love there is life.\n"
          ]
        }
      ]
    },
    {
      "cell_type": "code",
      "source": [
        "my_query = 'what is green'\n",
        "results = collection.query(\n",
        "    query_texts=my_query,\n",
        "    n_results=3)\n",
        "for doc in results['documents'][0]:\n",
        "  print(doc)"
      ],
      "metadata": {
        "colab": {
          "base_uri": "https://localhost:8080/"
        },
        "id": "Alsa0st_SM7r",
        "outputId": "85943b2e-741f-44bb-8e6e-fbd1cc1872aa"
      },
      "execution_count": null,
      "outputs": [
        {
          "output_type": "stream",
          "name": "stdout",
          "text": [
            "Liberty, when it begins to take root, is a plant of rapid growth.\n",
            "Freedom is nothing else but a chance to be better.\n",
            "Freedom is nothing but a chance to be better.\n"
          ]
        }
      ]
    },
    {
      "cell_type": "code",
      "source": [
        "my_query = 'what is red'\n",
        "results = collection.query(\n",
        "    query_texts=my_query,\n",
        "    n_results=3)\n",
        "for doc in results['documents'][0]:\n",
        "  print(doc)"
      ],
      "metadata": {
        "colab": {
          "base_uri": "https://localhost:8080/"
        },
        "id": "kLABryCcSZWQ",
        "outputId": "12467934-ccb3-4a12-e6d9-e54b0f708049"
      },
      "execution_count": null,
      "outputs": [
        {
          "output_type": "stream",
          "name": "stdout",
          "text": [
            "I think, therefore I am.\n",
            "Fear is a reaction. Courage is a decision.\n",
            "Creativity is seeing what others see and thinking what no one else ever thought.\n"
          ]
        }
      ]
    },
    {
      "cell_type": "code",
      "source": [
        "my_query = 'what to do when you are sad'\n",
        "results = collection.query(\n",
        "    query_texts=my_query,\n",
        "    n_results=3)\n",
        "for doc in results['documents'][0]:\n",
        "  print(doc)"
      ],
      "metadata": {
        "colab": {
          "base_uri": "https://localhost:8080/"
        },
        "id": "qIYd9qDASfQ8",
        "outputId": "3447eeb4-b823-4a77-b4ad-9442a2ec9b9c"
      },
      "execution_count": null,
      "outputs": [
        {
          "output_type": "stream",
          "name": "stdout",
          "text": [
            "Question everything. Learn something. Answer nothing.\n",
            "Do not pray for easy lives. Pray to be stronger men.\n",
            "The purpose of our lives is to be happy.\n"
          ]
        }
      ]
    },
    {
      "cell_type": "code",
      "source": [
        "collection.count()"
      ],
      "metadata": {
        "colab": {
          "base_uri": "https://localhost:8080/"
        },
        "id": "r-kUfADjJHYW",
        "outputId": "66990032-6580-45d2-d0b4-900d93afa404"
      },
      "execution_count": null,
      "outputs": [
        {
          "output_type": "execute_result",
          "data": {
            "text/plain": [
              "100"
            ]
          },
          "metadata": {},
          "execution_count": 14
        }
      ]
    },
    {
      "cell_type": "code",
      "source": [
        "print(collection)"
      ],
      "metadata": {
        "colab": {
          "base_uri": "https://localhost:8080/"
        },
        "id": "F_mdOdWQJPFP",
        "outputId": "c2ae3e9b-71a0-4b02-ea10-771d46c85547"
      },
      "execution_count": null,
      "outputs": [
        {
          "output_type": "stream",
          "name": "stdout",
          "text": [
            "name='quotes' id=UUID('745f9a45-cf56-41f8-9653-aabdf43cd7e0') metadata=None tenant='default_tenant' database='default_database'\n"
          ]
        }
      ]
    },
    {
      "cell_type": "markdown",
      "source": [
        "## Change similarity function and use filters\n",
        "Changing similarity distance while creating collection. Default is L2\n",
        "https://docs.trychroma.com/usage-guide#changing-the-distance-function"
      ],
      "metadata": {
        "id": "2CxWj87JLEmq"
      }
    },
    {
      "cell_type": "code",
      "source": [
        "client.delete_collection('quotes')"
      ],
      "metadata": {
        "id": "gObhf1bNLOnm"
      },
      "execution_count": null,
      "outputs": []
    },
    {
      "cell_type": "code",
      "source": [
        "collection = client.create_collection(\n",
        "        name=\"quotes\",\n",
        "        metadata={\"hnsw:space\": \"cosine\"} # l2 is the default\n",
        "    )\n",
        "\n",
        "collection.add(\n",
        "    ids=[str(i) for i in range(0, len(df))],\n",
        "    documents=df['quote'].to_list(),\n",
        "    metadatas=[{'person': p, 'topic': t} for p,t in zip(df['person'].to_list(), df['topic'].to_list())],\n",
        ")"
      ],
      "metadata": {
        "id": "aLXgd2lwLfod"
      },
      "execution_count": null,
      "outputs": []
    },
    {
      "cell_type": "code",
      "source": [
        "my_query = 'what is love'\n",
        "results = collection.query(\n",
        "    query_texts=my_query,\n",
        "    n_results=3)\n",
        "for doc in results['documents'][0]:\n",
        "  print(doc)"
      ],
      "metadata": {
        "colab": {
          "base_uri": "https://localhost:8080/"
        },
        "id": "B4aGzUc7MEyz",
        "outputId": "2c7ba008-9912-4cdd-c8dd-28f0ade2e8d7"
      },
      "execution_count": null,
      "outputs": [
        {
          "output_type": "stream",
          "name": "stdout",
          "text": [
            "Love is not only something you feel, it is something you do.\n",
            "Love is an irresistible desire to be irresistibly desired.\n",
            "Where there is love there is life.\n"
          ]
        }
      ]
    },
    {
      "cell_type": "code",
      "source": [
        "# use where to specify metadata\n",
        "my_query = 'what is love'\n",
        "results = collection.query(\n",
        "    query_texts=my_query,\n",
        "    n_results=3,\n",
        "    #where={\"topic\": \"Individuality\"} # topic is equal to 'Individuality'\n",
        "    where={\"topic\": {\"$ne\": \"Love\"}} # topic is not equal to 'Love'\n",
        "    )\n",
        "for doc in results['documents'][0]:\n",
        "  print(doc)\n",
        "print(results)"
      ],
      "metadata": {
        "colab": {
          "base_uri": "https://localhost:8080/"
        },
        "id": "f5OrZC-xMWwG",
        "outputId": "4e1efb36-686c-4677-e378-8ae42b3e7ffd"
      },
      "execution_count": null,
      "outputs": [
        {
          "output_type": "stream",
          "name": "stdout",
          "text": [
            "When the power of love overcomes the love of power, the world will know peace.\n",
            "The purpose of our lives is to be happy.\n",
            "Success is not the key to happiness. Happiness is the key to success. If you love what you are doing, you will be successful.\n",
            "{'ids': [['71', '67', '17']], 'distances': [[0.6005175113677979, 0.6716969013214111, 0.745746374130249]], 'metadatas': [[{'person': 'Jimi Hendrix', 'topic': 'Peace'}, {'person': 'Dalai Lama', 'topic': 'Life'}, {'person': 'Albert Schweitzer', 'topic': 'Success'}]], 'embeddings': None, 'documents': [['When the power of love overcomes the love of power, the world will know peace.', 'The purpose of our lives is to be happy.', 'Success is not the key to happiness. Happiness is the key to success. If you love what you are doing, you will be successful.']], 'uris': None, 'data': None}\n"
          ]
        }
      ]
    }
  ]
}