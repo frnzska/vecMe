{
  "cells": [
    {
      "cell_type": "code",
      "execution_count": 2,
      "metadata": {
        "colab": {
          "base_uri": "https://localhost:8080/"
        },
        "id": "pzogEWJQEggS",
        "outputId": "1218d421-7948-4e98-d7a9-92111d36ac3a"
      },
      "outputs": [
        {
          "name": "stdout",
          "output_type": "stream",
          "text": [
            "\u001b[2K     \u001b[90m━━━━━━━━━━━━━━━━━━━━━━━━━━━━━━━━━━━━━━━━\u001b[0m \u001b[32m526.8/526.8 kB\u001b[0m \u001b[31m3.7 MB/s\u001b[0m eta \u001b[36m0:00:00\u001b[0m\n",
            "\u001b[2K     \u001b[90m━━━━━━━━━━━━━━━━━━━━━━━━━━━━━━━━━━━━━━━━\u001b[0m \u001b[32m2.4/2.4 MB\u001b[0m \u001b[31m11.8 MB/s\u001b[0m eta \u001b[36m0:00:00\u001b[0m\n",
            "\u001b[2K     \u001b[90m━━━━━━━━━━━━━━━━━━━━━━━━━━━━━━━━━━━━━━━━\u001b[0m \u001b[32m92.0/92.0 kB\u001b[0m \u001b[31m5.6 MB/s\u001b[0m eta \u001b[36m0:00:00\u001b[0m\n",
            "\u001b[2K     \u001b[90m━━━━━━━━━━━━━━━━━━━━━━━━━━━━━━━━━━━━━━━━\u001b[0m \u001b[32m60.8/60.8 kB\u001b[0m \u001b[31m824.7 kB/s\u001b[0m eta \u001b[36m0:00:00\u001b[0m\n",
            "\u001b[2K     \u001b[90m━━━━━━━━━━━━━━━━━━━━━━━━━━━━━━━━━━━━━━━━\u001b[0m \u001b[32m41.3/41.3 kB\u001b[0m \u001b[31m2.9 MB/s\u001b[0m eta \u001b[36m0:00:00\u001b[0m\n",
            "\u001b[2K     \u001b[90m━━━━━━━━━━━━━━━━━━━━━━━━━━━━━━━━━━━━━━━━\u001b[0m \u001b[32m6.8/6.8 MB\u001b[0m \u001b[31m28.5 MB/s\u001b[0m eta \u001b[36m0:00:00\u001b[0m\n",
            "\u001b[2K     \u001b[90m━━━━━━━━━━━━━━━━━━━━━━━━━━━━━━━━━━━━━━━━\u001b[0m \u001b[32m60.1/60.1 kB\u001b[0m \u001b[31m2.5 MB/s\u001b[0m eta \u001b[36m0:00:00\u001b[0m\n",
            "\u001b[2K     \u001b[90m━━━━━━━━━━━━━━━━━━━━━━━━━━━━━━━━━━━━━━━━\u001b[0m \u001b[32m106.1/106.1 kB\u001b[0m \u001b[31m8.2 MB/s\u001b[0m eta \u001b[36m0:00:00\u001b[0m\n",
            "\u001b[2K     \u001b[90m━━━━━━━━━━━━━━━━━━━━━━━━━━━━━━━━━━━━━━━━\u001b[0m \u001b[32m67.3/67.3 kB\u001b[0m \u001b[31m4.3 MB/s\u001b[0m eta \u001b[36m0:00:00\u001b[0m\n",
            "\u001b[?25h  Installing build dependencies ... \u001b[?25l\u001b[?25hdone\n",
            "  Getting requirements to build wheel ... \u001b[?25l\u001b[?25hdone\n",
            "  Preparing metadata (pyproject.toml) ... \u001b[?25l\u001b[?25hdone\n",
            "\u001b[2K     \u001b[90m━━━━━━━━━━━━━━━━━━━━━━━━━━━━━━━━━━━━━━━━\u001b[0m \u001b[32m698.9/698.9 kB\u001b[0m \u001b[31m35.0 MB/s\u001b[0m eta \u001b[36m0:00:00\u001b[0m\n",
            "\u001b[2K     \u001b[90m━━━━━━━━━━━━━━━━━━━━━━━━━━━━━━━━━━━━━━━━\u001b[0m \u001b[32m1.6/1.6 MB\u001b[0m \u001b[31m36.4 MB/s\u001b[0m eta \u001b[36m0:00:00\u001b[0m\n",
            "\u001b[2K     \u001b[90m━━━━━━━━━━━━━━━━━━━━━━━━━━━━━━━━━━━━━━━━\u001b[0m \u001b[32m67.6/67.6 kB\u001b[0m \u001b[31m4.4 MB/s\u001b[0m eta \u001b[36m0:00:00\u001b[0m\n",
            "\u001b[2K     \u001b[90m━━━━━━━━━━━━━━━━━━━━━━━━━━━━━━━━━━━━━━━━\u001b[0m \u001b[32m142.7/142.7 kB\u001b[0m \u001b[31m4.1 MB/s\u001b[0m eta \u001b[36m0:00:00\u001b[0m\n",
            "\u001b[2K     \u001b[90m━━━━━━━━━━━━━━━━━━━━━━━━━━━━━━━━━━━━━━━━\u001b[0m \u001b[32m71.9/71.9 kB\u001b[0m \u001b[31m5.9 MB/s\u001b[0m eta \u001b[36m0:00:00\u001b[0m\n",
            "\u001b[2K     \u001b[90m━━━━━━━━━━━━━━━━━━━━━━━━━━━━━━━━━━━━━━━━\u001b[0m \u001b[32m75.6/75.6 kB\u001b[0m \u001b[31m5.7 MB/s\u001b[0m eta \u001b[36m0:00:00\u001b[0m\n",
            "\u001b[2K     \u001b[90m━━━━━━━━━━━━━━━━━━━━━━━━━━━━━━━━━━━━━━━━\u001b[0m \u001b[32m53.2/53.2 kB\u001b[0m \u001b[31m5.2 MB/s\u001b[0m eta \u001b[36m0:00:00\u001b[0m\n",
            "\u001b[2K     \u001b[90m━━━━━━━━━━━━━━━━━━━━━━━━━━━━━━━━━━━━━━━━\u001b[0m \u001b[32m46.0/46.0 kB\u001b[0m \u001b[31m4.6 MB/s\u001b[0m eta \u001b[36m0:00:00\u001b[0m\n",
            "\u001b[2K     \u001b[90m━━━━━━━━━━━━━━━━━━━━━━━━━━━━━━━━━━━━━━━━\u001b[0m \u001b[32m50.8/50.8 kB\u001b[0m \u001b[31m5.3 MB/s\u001b[0m eta \u001b[36m0:00:00\u001b[0m\n",
            "\u001b[2K     \u001b[90m━━━━━━━━━━━━━━━━━━━━━━━━━━━━━━━━━━━━━━━━\u001b[0m \u001b[32m58.3/58.3 kB\u001b[0m \u001b[31m5.5 MB/s\u001b[0m eta \u001b[36m0:00:00\u001b[0m\n",
            "\u001b[2K     \u001b[90m━━━━━━━━━━━━━━━━━━━━━━━━━━━━━━━━━━━━━━━━\u001b[0m \u001b[32m341.4/341.4 kB\u001b[0m \u001b[31m28.8 MB/s\u001b[0m eta \u001b[36m0:00:00\u001b[0m\n",
            "\u001b[2K     \u001b[90m━━━━━━━━━━━━━━━━━━━━━━━━━━━━━━━━━━━━━━━━\u001b[0m \u001b[32m3.4/3.4 MB\u001b[0m \u001b[31m52.5 MB/s\u001b[0m eta \u001b[36m0:00:00\u001b[0m\n",
            "\u001b[2K     \u001b[90m━━━━━━━━━━━━━━━━━━━━━━━━━━━━━━━━━━━━━━━━\u001b[0m \u001b[32m1.3/1.3 MB\u001b[0m \u001b[31m56.9 MB/s\u001b[0m eta \u001b[36m0:00:00\u001b[0m\n",
            "\u001b[2K     \u001b[90m━━━━━━━━━━━━━━━━━━━━━━━━━━━━━━━━━━━━━━━━\u001b[0m \u001b[32m130.2/130.2 kB\u001b[0m \u001b[31m10.9 MB/s\u001b[0m eta \u001b[36m0:00:00\u001b[0m\n",
            "\u001b[2K     \u001b[90m━━━━━━━━━━━━━━━━━━━━━━━━━━━━━━━━━━━━━━━━\u001b[0m \u001b[32m307.7/307.7 kB\u001b[0m \u001b[31m26.1 MB/s\u001b[0m eta \u001b[36m0:00:00\u001b[0m\n",
            "\u001b[2K     \u001b[90m━━━━━━━━━━━━━━━━━━━━━━━━━━━━━━━━━━━━━━━━\u001b[0m \u001b[32m47.2/47.2 kB\u001b[0m \u001b[31m3.9 MB/s\u001b[0m eta \u001b[36m0:00:00\u001b[0m\n",
            "\u001b[2K     \u001b[90m━━━━━━━━━━━━━━━━━━━━━━━━━━━━━━━━━━━━━━━━\u001b[0m \u001b[32m77.9/77.9 kB\u001b[0m \u001b[31m8.8 MB/s\u001b[0m eta \u001b[36m0:00:00\u001b[0m\n",
            "\u001b[2K     \u001b[90m━━━━━━━━━━━━━━━━━━━━━━━━━━━━━━━━━━━━━━━━\u001b[0m \u001b[32m86.8/86.8 kB\u001b[0m \u001b[31m9.8 MB/s\u001b[0m eta \u001b[36m0:00:00\u001b[0m\n",
            "\u001b[?25h  Building wheel for pypika (pyproject.toml) ... \u001b[?25l\u001b[?25hdone\n",
            "\u001b[31mERROR: pip's dependency resolver does not currently take into account all the packages that are installed. This behaviour is the source of the following dependency conflicts.\n",
            "spacy 3.7.4 requires typer<0.10.0,>=0.3.0, but you have typer 0.12.3 which is incompatible.\n",
            "weasel 0.3.4 requires typer<0.10.0,>=0.3.0, but you have typer 0.12.3 which is incompatible.\u001b[0m\u001b[31m\n",
            "\u001b[2K     \u001b[90m━━━━━━━━━━━━━━━━━━━━━━━━━━━━━━━━━━━━━━━━\u001b[0m \u001b[32m171.5/171.5 kB\u001b[0m \u001b[31m4.3 MB/s\u001b[0m eta \u001b[36m0:00:00\u001b[0m\n",
            "\u001b[?25h"
          ]
        }
      ],
      "source": [
        "!pip install chromadb -q\n",
        "!pip install sentence-transformers -q"
      ]
    },
    {
      "cell_type": "code",
      "execution_count": 3,
      "metadata": {
        "id": "F2UIL8C2MrNT"
      },
      "outputs": [],
      "source": [
        "#imports\n",
        "import chromadb\n",
        "import pandas as pd\n",
        "from itertools import chain"
      ]
    },
    {
      "cell_type": "markdown",
      "metadata": {
        "id": "2q6tDGG-Eo7S"
      },
      "source": [
        "# Neuer Abschnitt"
      ]
    },
    {
      "cell_type": "code",
      "execution_count": 4,
      "metadata": {
        "id": "rBoSdD8aH7Vw"
      },
      "outputs": [],
      "source": [
        "\n",
        "\n",
        "client = chromadb.Client() # default in memory\n",
        "collection = client.create_collection('quotes')\n"
      ]
    },
    {
      "cell_type": "code",
      "execution_count": null,
      "metadata": {
        "id": "ib9vRGgCJVSq"
      },
      "outputs": [],
      "source": [
        "#client.delete_collection('quotes')"
      ]
    },
    {
      "cell_type": "code",
      "execution_count": 6,
      "metadata": {
        "colab": {
          "base_uri": "https://localhost:8080/",
          "height": 206
        },
        "id": "dip08QX4JT29",
        "outputId": "6306fc9b-b9b3-465f-b03a-464612bae0d6"
      },
      "outputs": [
        {
          "data": {
            "application/vnd.google.colaboratory.intrinsic+json": {
              "summary": "{\n  \"name\": \"df\",\n  \"rows\": 100,\n  \"fields\": [\n    {\n      \"column\": \"quote\",\n      \"properties\": {\n        \"dtype\": \"string\",\n        \"num_unique_values\": 100,\n        \"samples\": [\n          \"Understanding is deeper than knowledge. There are many people who know you, but very few who understand you.\",\n          \"Never doubt that a small group of thoughtful, committed citizens can change the world; indeed, it's the only thing that ever has.\",\n          \"Everything you can imagine is real.\"\n        ],\n        \"semantic_type\": \"\",\n        \"description\": \"\"\n      }\n    },\n    {\n      \"column\": \"person\",\n      \"properties\": {\n        \"dtype\": \"string\",\n        \"num_unique_values\": 76,\n        \"samples\": [\n          \"Martin Luther King Jr.\",\n          \"Carol Burnett\",\n          \"George Eliot\"\n        ],\n        \"semantic_type\": \"\",\n        \"description\": \"\"\n      }\n    },\n    {\n      \"column\": \"topic\",\n      \"properties\": {\n        \"dtype\": \"category\",\n        \"num_unique_values\": 18,\n        \"samples\": [\n          \"Courage\",\n          \"Individuality\",\n          \"Inspiration\"\n        ],\n        \"semantic_type\": \"\",\n        \"description\": \"\"\n      }\n    }\n  ]\n}",
              "type": "dataframe",
              "variable_name": "df"
            },
            "text/html": [
              "\n",
              "  <div id=\"df-5949234c-1ce5-4448-90c9-7f1f8c6d4f34\" class=\"colab-df-container\">\n",
              "    <div>\n",
              "<style scoped>\n",
              "    .dataframe tbody tr th:only-of-type {\n",
              "        vertical-align: middle;\n",
              "    }\n",
              "\n",
              "    .dataframe tbody tr th {\n",
              "        vertical-align: top;\n",
              "    }\n",
              "\n",
              "    .dataframe thead th {\n",
              "        text-align: right;\n",
              "    }\n",
              "</style>\n",
              "<table border=\"1\" class=\"dataframe\">\n",
              "  <thead>\n",
              "    <tr style=\"text-align: right;\">\n",
              "      <th></th>\n",
              "      <th>quote</th>\n",
              "      <th>person</th>\n",
              "      <th>topic</th>\n",
              "    </tr>\n",
              "  </thead>\n",
              "  <tbody>\n",
              "    <tr>\n",
              "      <th>0</th>\n",
              "      <td>The only thing we have to fear is fear itself.</td>\n",
              "      <td>Franklin D. Roosevelt</td>\n",
              "      <td>Courage</td>\n",
              "    </tr>\n",
              "    <tr>\n",
              "      <th>1</th>\n",
              "      <td>Be yourself; everyone else is already taken.</td>\n",
              "      <td>Oscar Wilde</td>\n",
              "      <td>Individuality</td>\n",
              "    </tr>\n",
              "    <tr>\n",
              "      <th>2</th>\n",
              "      <td>I think, therefore I am.</td>\n",
              "      <td>René Descartes</td>\n",
              "      <td>Philosophy</td>\n",
              "    </tr>\n",
              "    <tr>\n",
              "      <th>3</th>\n",
              "      <td>To be, or not to be, that is the question.</td>\n",
              "      <td>William Shakespeare</td>\n",
              "      <td>Philosophy</td>\n",
              "    </tr>\n",
              "    <tr>\n",
              "      <th>4</th>\n",
              "      <td>Injustice anywhere is a threat to justice ever...</td>\n",
              "      <td>Martin Luther King Jr.</td>\n",
              "      <td>Social Justice</td>\n",
              "    </tr>\n",
              "  </tbody>\n",
              "</table>\n",
              "</div>\n",
              "    <div class=\"colab-df-buttons\">\n",
              "\n",
              "  <div class=\"colab-df-container\">\n",
              "    <button class=\"colab-df-convert\" onclick=\"convertToInteractive('df-5949234c-1ce5-4448-90c9-7f1f8c6d4f34')\"\n",
              "            title=\"Convert this dataframe to an interactive table.\"\n",
              "            style=\"display:none;\">\n",
              "\n",
              "  <svg xmlns=\"http://www.w3.org/2000/svg\" height=\"24px\" viewBox=\"0 -960 960 960\">\n",
              "    <path d=\"M120-120v-720h720v720H120Zm60-500h600v-160H180v160Zm220 220h160v-160H400v160Zm0 220h160v-160H400v160ZM180-400h160v-160H180v160Zm440 0h160v-160H620v160ZM180-180h160v-160H180v160Zm440 0h160v-160H620v160Z\"/>\n",
              "  </svg>\n",
              "    </button>\n",
              "\n",
              "  <style>\n",
              "    .colab-df-container {\n",
              "      display:flex;\n",
              "      gap: 12px;\n",
              "    }\n",
              "\n",
              "    .colab-df-convert {\n",
              "      background-color: #E8F0FE;\n",
              "      border: none;\n",
              "      border-radius: 50%;\n",
              "      cursor: pointer;\n",
              "      display: none;\n",
              "      fill: #1967D2;\n",
              "      height: 32px;\n",
              "      padding: 0 0 0 0;\n",
              "      width: 32px;\n",
              "    }\n",
              "\n",
              "    .colab-df-convert:hover {\n",
              "      background-color: #E2EBFA;\n",
              "      box-shadow: 0px 1px 2px rgba(60, 64, 67, 0.3), 0px 1px 3px 1px rgba(60, 64, 67, 0.15);\n",
              "      fill: #174EA6;\n",
              "    }\n",
              "\n",
              "    .colab-df-buttons div {\n",
              "      margin-bottom: 4px;\n",
              "    }\n",
              "\n",
              "    [theme=dark] .colab-df-convert {\n",
              "      background-color: #3B4455;\n",
              "      fill: #D2E3FC;\n",
              "    }\n",
              "\n",
              "    [theme=dark] .colab-df-convert:hover {\n",
              "      background-color: #434B5C;\n",
              "      box-shadow: 0px 1px 3px 1px rgba(0, 0, 0, 0.15);\n",
              "      filter: drop-shadow(0px 1px 2px rgba(0, 0, 0, 0.3));\n",
              "      fill: #FFFFFF;\n",
              "    }\n",
              "  </style>\n",
              "\n",
              "    <script>\n",
              "      const buttonEl =\n",
              "        document.querySelector('#df-5949234c-1ce5-4448-90c9-7f1f8c6d4f34 button.colab-df-convert');\n",
              "      buttonEl.style.display =\n",
              "        google.colab.kernel.accessAllowed ? 'block' : 'none';\n",
              "\n",
              "      async function convertToInteractive(key) {\n",
              "        const element = document.querySelector('#df-5949234c-1ce5-4448-90c9-7f1f8c6d4f34');\n",
              "        const dataTable =\n",
              "          await google.colab.kernel.invokeFunction('convertToInteractive',\n",
              "                                                    [key], {});\n",
              "        if (!dataTable) return;\n",
              "\n",
              "        const docLinkHtml = 'Like what you see? Visit the ' +\n",
              "          '<a target=\"_blank\" href=https://colab.research.google.com/notebooks/data_table.ipynb>data table notebook</a>'\n",
              "          + ' to learn more about interactive tables.';\n",
              "        element.innerHTML = '';\n",
              "        dataTable['output_type'] = 'display_data';\n",
              "        await google.colab.output.renderOutput(dataTable, element);\n",
              "        const docLink = document.createElement('div');\n",
              "        docLink.innerHTML = docLinkHtml;\n",
              "        element.appendChild(docLink);\n",
              "      }\n",
              "    </script>\n",
              "  </div>\n",
              "\n",
              "\n",
              "<div id=\"df-2db954c3-198f-4246-a041-539839c73d96\">\n",
              "  <button class=\"colab-df-quickchart\" onclick=\"quickchart('df-2db954c3-198f-4246-a041-539839c73d96')\"\n",
              "            title=\"Suggest charts\"\n",
              "            style=\"display:none;\">\n",
              "\n",
              "<svg xmlns=\"http://www.w3.org/2000/svg\" height=\"24px\"viewBox=\"0 0 24 24\"\n",
              "     width=\"24px\">\n",
              "    <g>\n",
              "        <path d=\"M19 3H5c-1.1 0-2 .9-2 2v14c0 1.1.9 2 2 2h14c1.1 0 2-.9 2-2V5c0-1.1-.9-2-2-2zM9 17H7v-7h2v7zm4 0h-2V7h2v10zm4 0h-2v-4h2v4z\"/>\n",
              "    </g>\n",
              "</svg>\n",
              "  </button>\n",
              "\n",
              "<style>\n",
              "  .colab-df-quickchart {\n",
              "      --bg-color: #E8F0FE;\n",
              "      --fill-color: #1967D2;\n",
              "      --hover-bg-color: #E2EBFA;\n",
              "      --hover-fill-color: #174EA6;\n",
              "      --disabled-fill-color: #AAA;\n",
              "      --disabled-bg-color: #DDD;\n",
              "  }\n",
              "\n",
              "  [theme=dark] .colab-df-quickchart {\n",
              "      --bg-color: #3B4455;\n",
              "      --fill-color: #D2E3FC;\n",
              "      --hover-bg-color: #434B5C;\n",
              "      --hover-fill-color: #FFFFFF;\n",
              "      --disabled-bg-color: #3B4455;\n",
              "      --disabled-fill-color: #666;\n",
              "  }\n",
              "\n",
              "  .colab-df-quickchart {\n",
              "    background-color: var(--bg-color);\n",
              "    border: none;\n",
              "    border-radius: 50%;\n",
              "    cursor: pointer;\n",
              "    display: none;\n",
              "    fill: var(--fill-color);\n",
              "    height: 32px;\n",
              "    padding: 0;\n",
              "    width: 32px;\n",
              "  }\n",
              "\n",
              "  .colab-df-quickchart:hover {\n",
              "    background-color: var(--hover-bg-color);\n",
              "    box-shadow: 0 1px 2px rgba(60, 64, 67, 0.3), 0 1px 3px 1px rgba(60, 64, 67, 0.15);\n",
              "    fill: var(--button-hover-fill-color);\n",
              "  }\n",
              "\n",
              "  .colab-df-quickchart-complete:disabled,\n",
              "  .colab-df-quickchart-complete:disabled:hover {\n",
              "    background-color: var(--disabled-bg-color);\n",
              "    fill: var(--disabled-fill-color);\n",
              "    box-shadow: none;\n",
              "  }\n",
              "\n",
              "  .colab-df-spinner {\n",
              "    border: 2px solid var(--fill-color);\n",
              "    border-color: transparent;\n",
              "    border-bottom-color: var(--fill-color);\n",
              "    animation:\n",
              "      spin 1s steps(1) infinite;\n",
              "  }\n",
              "\n",
              "  @keyframes spin {\n",
              "    0% {\n",
              "      border-color: transparent;\n",
              "      border-bottom-color: var(--fill-color);\n",
              "      border-left-color: var(--fill-color);\n",
              "    }\n",
              "    20% {\n",
              "      border-color: transparent;\n",
              "      border-left-color: var(--fill-color);\n",
              "      border-top-color: var(--fill-color);\n",
              "    }\n",
              "    30% {\n",
              "      border-color: transparent;\n",
              "      border-left-color: var(--fill-color);\n",
              "      border-top-color: var(--fill-color);\n",
              "      border-right-color: var(--fill-color);\n",
              "    }\n",
              "    40% {\n",
              "      border-color: transparent;\n",
              "      border-right-color: var(--fill-color);\n",
              "      border-top-color: var(--fill-color);\n",
              "    }\n",
              "    60% {\n",
              "      border-color: transparent;\n",
              "      border-right-color: var(--fill-color);\n",
              "    }\n",
              "    80% {\n",
              "      border-color: transparent;\n",
              "      border-right-color: var(--fill-color);\n",
              "      border-bottom-color: var(--fill-color);\n",
              "    }\n",
              "    90% {\n",
              "      border-color: transparent;\n",
              "      border-bottom-color: var(--fill-color);\n",
              "    }\n",
              "  }\n",
              "</style>\n",
              "\n",
              "  <script>\n",
              "    async function quickchart(key) {\n",
              "      const quickchartButtonEl =\n",
              "        document.querySelector('#' + key + ' button');\n",
              "      quickchartButtonEl.disabled = true;  // To prevent multiple clicks.\n",
              "      quickchartButtonEl.classList.add('colab-df-spinner');\n",
              "      try {\n",
              "        const charts = await google.colab.kernel.invokeFunction(\n",
              "            'suggestCharts', [key], {});\n",
              "      } catch (error) {\n",
              "        console.error('Error during call to suggestCharts:', error);\n",
              "      }\n",
              "      quickchartButtonEl.classList.remove('colab-df-spinner');\n",
              "      quickchartButtonEl.classList.add('colab-df-quickchart-complete');\n",
              "    }\n",
              "    (() => {\n",
              "      let quickchartButtonEl =\n",
              "        document.querySelector('#df-2db954c3-198f-4246-a041-539839c73d96 button');\n",
              "      quickchartButtonEl.style.display =\n",
              "        google.colab.kernel.accessAllowed ? 'block' : 'none';\n",
              "    })();\n",
              "  </script>\n",
              "</div>\n",
              "    </div>\n",
              "  </div>\n"
            ],
            "text/plain": [
              "                                               quote                  person  \\\n",
              "0     The only thing we have to fear is fear itself.   Franklin D. Roosevelt   \n",
              "1       Be yourself; everyone else is already taken.             Oscar Wilde   \n",
              "2                           I think, therefore I am.          René Descartes   \n",
              "3         To be, or not to be, that is the question.     William Shakespeare   \n",
              "4  Injustice anywhere is a threat to justice ever...  Martin Luther King Jr.   \n",
              "\n",
              "            topic  \n",
              "0         Courage  \n",
              "1   Individuality  \n",
              "2      Philosophy  \n",
              "3      Philosophy  \n",
              "4  Social Justice  "
            ]
          },
          "execution_count": 6,
          "metadata": {},
          "output_type": "execute_result"
        }
      ],
      "source": [
        "df = pd.read_csv('sample_data/quotes.csv')\n",
        "df.head(5)"
      ]
    },
    {
      "cell_type": "code",
      "execution_count": 7,
      "metadata": {
        "colab": {
          "base_uri": "https://localhost:8080/"
        },
        "id": "X37jLdfKLQlz",
        "outputId": "5fd607a5-9284-445b-b3ed-f49fd623ba17"
      },
      "outputs": [
        {
          "name": "stderr",
          "output_type": "stream",
          "text": [
            "/root/.cache/chroma/onnx_models/all-MiniLM-L6-v2/onnx.tar.gz: 100%|██████████| 79.3M/79.3M [00:02<00:00, 29.7MiB/s]\n"
          ]
        }
      ],
      "source": [
        "# add quotes as documents and person, topic as metadata collection itmes\n",
        "# in-build embeddings\n",
        "collection.add(\n",
        "    ids=[str(i) for i in range(0, len(df))],\n",
        "    documents=df['quote'].to_list(),\n",
        "    metadatas=[{'person': p, 'topic': t} for p,t in zip(df['person'].to_list(), df['topic'].to_list())],\n",
        ")\n"
      ]
    },
    {
      "cell_type": "code",
      "execution_count": 8,
      "metadata": {
        "colab": {
          "base_uri": "https://localhost:8080/"
        },
        "id": "02qwI7yXPJk4",
        "outputId": "4bf311b5-302c-424e-87d7-7e2996955c1a"
      },
      "outputs": [
        {
          "data": {
            "text/plain": [
              "{'ids': ['1'],\n",
              " 'embeddings': [[-0.007102255709469318,\n",
              "   0.024232657626271248,\n",
              "   0.06015212833881378,\n",
              "   -0.02771695703268051,\n",
              "   0.01838059164583683,\n",
              "   -0.04627615213394165,\n",
              "   0.08857367187738419,\n",
              "   -0.06295574456453323,\n",
              "   -0.033231936395168304,\n",
              "   -0.0392136313021183,\n",
              "   0.025631004944443703,\n",
              "   -0.09541463851928711,\n",
              "   -0.01652626134455204,\n",
              "   -0.04381481558084488,\n",
              "   0.08338762819766998,\n",
              "   -0.0009665123070590198,\n",
              "   0.12206076085567474,\n",
              "   0.019491974264383316,\n",
              "   -0.034457702189683914,\n",
              "   -0.03663576394319534,\n",
              "   -0.05857164412736893,\n",
              "   -0.061606526374816895,\n",
              "   -0.008014023303985596,\n",
              "   0.0052438536658883095,\n",
              "   -0.07181600481271744,\n",
              "   -0.03872758150100708,\n",
              "   0.02742748335003853,\n",
              "   -0.05448571592569351,\n",
              "   0.030683692544698715,\n",
              "   -0.011821874417364597,\n",
              "   0.007468836382031441,\n",
              "   -0.05179515480995178,\n",
              "   0.03746400400996208,\n",
              "   0.05976206064224243,\n",
              "   -0.08575645834207535,\n",
              "   0.057704366743564606,\n",
              "   -0.06409265846014023,\n",
              "   -0.0634852722287178,\n",
              "   0.06038544699549675,\n",
              "   0.029225803911685944,\n",
              "   -0.034239813685417175,\n",
              "   -0.003884802805259824,\n",
              "   -0.0028048271778970957,\n",
              "   0.0438929945230484,\n",
              "   -0.05074010044336319,\n",
              "   -0.0726071298122406,\n",
              "   0.09594147652387619,\n",
              "   0.07453086227178574,\n",
              "   -0.007425783202052116,\n",
              "   0.0176763404160738,\n",
              "   -0.00032458355417475104,\n",
              "   -0.04711438715457916,\n",
              "   -0.08886134624481201,\n",
              "   0.038371939212083817,\n",
              "   -0.0005822969833388925,\n",
              "   0.04388514533638954,\n",
              "   -0.018986474722623825,\n",
              "   0.006779775954782963,\n",
              "   0.09353210031986237,\n",
              "   -0.03160465881228447,\n",
              "   -0.13520056009292603,\n",
              "   0.04023520648479462,\n",
              "   0.0559755377471447,\n",
              "   0.06171531230211258,\n",
              "   0.07099992781877518,\n",
              "   0.04192014038562775,\n",
              "   0.06812488287687302,\n",
              "   0.06377646327018738,\n",
              "   -0.03602321445941925,\n",
              "   0.043490130454301834,\n",
              "   0.006664269603788853,\n",
              "   -0.024661308154463768,\n",
              "   -0.03606753051280975,\n",
              "   0.03988367319107056,\n",
              "   0.01526644080877304,\n",
              "   -0.05093098804354668,\n",
              "   -0.009549388661980629,\n",
              "   -0.041532307863235474,\n",
              "   0.04594738781452179,\n",
              "   0.08632967621088028,\n",
              "   -0.08133051544427872,\n",
              "   -0.02828929014503956,\n",
              "   -0.05246496573090553,\n",
              "   0.03541085496544838,\n",
              "   -0.04663704335689545,\n",
              "   -0.013914835639297962,\n",
              "   -0.028916677460074425,\n",
              "   -0.017630133777856827,\n",
              "   0.0033990361262112856,\n",
              "   -0.0026621816214174032,\n",
              "   -0.06844893842935562,\n",
              "   0.03178661689162254,\n",
              "   -0.0007892628200352192,\n",
              "   -0.009645347483456135,\n",
              "   0.02989848330616951,\n",
              "   0.020289171487092972,\n",
              "   -0.055242862552404404,\n",
              "   -0.02723613567650318,\n",
              "   -0.0029693045653402805,\n",
              "   0.078643299639225,\n",
              "   -0.01552121527493,\n",
              "   0.05509650707244873,\n",
              "   0.009939402341842651,\n",
              "   0.08393213152885437,\n",
              "   -0.02172725647687912,\n",
              "   -0.013088447041809559,\n",
              "   0.053116049617528915,\n",
              "   -0.04287368431687355,\n",
              "   -0.046545833349227905,\n",
              "   -0.025916598737239838,\n",
              "   -0.050833169370889664,\n",
              "   -0.030139561742544174,\n",
              "   -0.03326423093676567,\n",
              "   0.0044000172056257725,\n",
              "   0.08980941027402878,\n",
              "   0.0064353737980127335,\n",
              "   0.11683422327041626,\n",
              "   -0.025884278118610382,\n",
              "   -0.02454952709376812,\n",
              "   -0.042435649782419205,\n",
              "   0.011193555779755116,\n",
              "   -0.01979241520166397,\n",
              "   0.005523336119949818,\n",
              "   0.022245917469263077,\n",
              "   -0.025928674265742302,\n",
              "   0.055522337555885315,\n",
              "   0.04072684049606323,\n",
              "   -1.6416625332507822e-33,\n",
              "   -0.014483393169939518,\n",
              "   0.07971670478582382,\n",
              "   0.042079150676727295,\n",
              "   0.09646546095609665,\n",
              "   -0.08589623868465424,\n",
              "   -0.007898830808699131,\n",
              "   0.02401459775865078,\n",
              "   0.02051425352692604,\n",
              "   -0.0766538679599762,\n",
              "   -0.04824531823396683,\n",
              "   0.03226350620388985,\n",
              "   -0.08998072147369385,\n",
              "   -0.04200049862265587,\n",
              "   -0.008493047207593918,\n",
              "   -0.04782651364803314,\n",
              "   0.016384340822696686,\n",
              "   -0.005263973958790302,\n",
              "   -0.07185399532318115,\n",
              "   0.051288262009620667,\n",
              "   0.04666277393698692,\n",
              "   0.044522859156131744,\n",
              "   -0.023517373949289322,\n",
              "   -0.049774691462516785,\n",
              "   -0.01483650878071785,\n",
              "   -0.008479324169456959,\n",
              "   0.007061832118779421,\n",
              "   0.022839050740003586,\n",
              "   -0.05098501220345497,\n",
              "   0.021707797423005104,\n",
              "   -0.0197001863270998,\n",
              "   0.01677495799958706,\n",
              "   0.06620028614997864,\n",
              "   -0.0016179977683350444,\n",
              "   0.020371180027723312,\n",
              "   0.02740243449807167,\n",
              "   -0.03324959799647331,\n",
              "   0.0013442178023979068,\n",
              "   0.054454877972602844,\n",
              "   0.0019955469761043787,\n",
              "   -0.0003592620778363198,\n",
              "   0.029041986912488937,\n",
              "   0.016588721424341202,\n",
              "   -0.057893965393304825,\n",
              "   -0.04539661854505539,\n",
              "   0.03003472089767456,\n",
              "   0.01663964055478573,\n",
              "   0.026542844250798225,\n",
              "   0.03486108407378197,\n",
              "   -0.0913122221827507,\n",
              "   0.030333440750837326,\n",
              "   -0.04428958520293236,\n",
              "   -0.08024152368307114,\n",
              "   0.053653065115213394,\n",
              "   -0.029475301504135132,\n",
              "   -0.12942998111248016,\n",
              "   -0.10297548770904541,\n",
              "   -0.012406186200678349,\n",
              "   -0.0031054471619427204,\n",
              "   0.03026272915303707,\n",
              "   -0.04749108850955963,\n",
              "   0.06044667214155197,\n",
              "   0.006375599652528763,\n",
              "   -0.03985225036740303,\n",
              "   0.05481904000043869,\n",
              "   -0.010911555029451847,\n",
              "   -0.0723593682050705,\n",
              "   0.040392421185970306,\n",
              "   -0.061389271169900894,\n",
              "   0.07529361546039581,\n",
              "   -0.03398100659251213,\n",
              "   -0.028581127524375916,\n",
              "   0.017347730696201324,\n",
              "   -0.09833790361881256,\n",
              "   0.11747700721025467,\n",
              "   -0.06595874577760696,\n",
              "   -0.04170828312635422,\n",
              "   0.0024847574532032013,\n",
              "   -0.013152877800166607,\n",
              "   0.09973669052124023,\n",
              "   -0.006232911255210638,\n",
              "   -0.03492003679275513,\n",
              "   0.050134412944316864,\n",
              "   -0.1073596179485321,\n",
              "   -0.030707504600286484,\n",
              "   0.06412697583436966,\n",
              "   -0.060950711369514465,\n",
              "   0.00971800647675991,\n",
              "   -0.11428343504667282,\n",
              "   -0.02021212689578533,\n",
              "   0.048532634973526,\n",
              "   0.011481290683150291,\n",
              "   0.023886606097221375,\n",
              "   0.03392279893159866,\n",
              "   -0.026232639327645302,\n",
              "   0.01640607975423336,\n",
              "   3.971994033896067e-34,\n",
              "   0.14268825948238373,\n",
              "   0.07216481864452362,\n",
              "   -0.01105393934994936,\n",
              "   -0.0006390478229150176,\n",
              "   0.017448414117097855,\n",
              "   -0.023551424965262413,\n",
              "   0.01781170628964901,\n",
              "   -0.03709237277507782,\n",
              "   0.07068166136741638,\n",
              "   0.06108720228075981,\n",
              "   -0.03638581931591034,\n",
              "   0.01910710334777832,\n",
              "   0.1441853940486908,\n",
              "   -0.05659498646855354,\n",
              "   -0.020890746265649796,\n",
              "   -0.025686446577310562,\n",
              "   0.07633240520954132,\n",
              "   -0.017119675874710083,\n",
              "   -0.06389999389648438,\n",
              "   0.021407052874565125,\n",
              "   -0.013199915178120136,\n",
              "   0.11317978799343109,\n",
              "   0.0054336050525307655,\n",
              "   0.031109368428587914,\n",
              "   -0.02210371568799019,\n",
              "   0.023012129589915276,\n",
              "   0.08325115591287613,\n",
              "   -0.010899674147367477,\n",
              "   0.028737472370266914,\n",
              "   -0.021247440949082375,\n",
              "   -0.09883014112710953,\n",
              "   -0.02948693186044693,\n",
              "   -0.059011660516262054,\n",
              "   -0.02345920540392399,\n",
              "   0.0020863504614681005,\n",
              "   0.04470004886388779,\n",
              "   -0.047223202884197235,\n",
              "   0.07398474216461182,\n",
              "   -0.041170600801706314,\n",
              "   0.05715332552790642,\n",
              "   -0.04006259888410568,\n",
              "   -0.07770467549562454,\n",
              "   -0.06453751772642136,\n",
              "   -0.014450828544795513,\n",
              "   -0.03432735800743103,\n",
              "   0.0190742127597332,\n",
              "   0.08187650144100189,\n",
              "   -0.008153987117111683,\n",
              "   -0.02729695849120617,\n",
              "   0.08238448202610016,\n",
              "   -0.11241196095943451,\n",
              "   0.025613736361265182,\n",
              "   0.02072957530617714,\n",
              "   0.04121070355176926,\n",
              "   0.045073095709085464,\n",
              "   -0.015137908048927784,\n",
              "   0.05779330059885979,\n",
              "   -0.009859880432486534,\n",
              "   0.05855114758014679,\n",
              "   -0.0028270480688661337,\n",
              "   -0.027280479669570923,\n",
              "   0.03240566328167915,\n",
              "   0.02784040756523609,\n",
              "   0.035392116755247116,\n",
              "   -0.017100974917411804,\n",
              "   -0.10403305292129517,\n",
              "   -0.04524264112114906,\n",
              "   0.08021842688322067,\n",
              "   -0.022556394338607788,\n",
              "   -0.012972457334399223,\n",
              "   -0.04421571269631386,\n",
              "   -0.04356425255537033,\n",
              "   0.03459465503692627,\n",
              "   -0.009540013037621975,\n",
              "   -0.0739441066980362,\n",
              "   -0.10159485787153244,\n",
              "   0.03927724435925484,\n",
              "   -0.005300960503518581,\n",
              "   -0.005013075191527605,\n",
              "   -0.011766339652240276,\n",
              "   -0.019279461354017258,\n",
              "   0.026866799220442772,\n",
              "   -0.019866060465574265,\n",
              "   0.007581683807075024,\n",
              "   0.009816703386604786,\n",
              "   0.051684994250535965,\n",
              "   0.0963616594672203,\n",
              "   0.027879245579242706,\n",
              "   -0.054643530398607254,\n",
              "   -0.09493455290794373,\n",
              "   -0.08913861960172653,\n",
              "   -0.04754491150379181,\n",
              "   0.022943269461393356,\n",
              "   0.04456217959523201,\n",
              "   -0.07975433766841888,\n",
              "   -1.9843666265728643e-08,\n",
              "   -0.026683850213885307,\n",
              "   -0.02986806444823742,\n",
              "   0.022046322003006935,\n",
              "   0.09329012036323547,\n",
              "   0.010668603703379631,\n",
              "   0.022635743021965027,\n",
              "   -0.10460355132818222,\n",
              "   -0.03306484594941139,\n",
              "   -0.013796371407806873,\n",
              "   0.036841075867414474,\n",
              "   0.006551254075020552,\n",
              "   0.09937907755374908,\n",
              "   0.09167895466089249,\n",
              "   0.027114948257803917,\n",
              "   -0.00012196585157653317,\n",
              "   0.026680191978812218,\n",
              "   -0.05531264841556549,\n",
              "   0.006683287210762501,\n",
              "   -0.05131636559963226,\n",
              "   -0.03404153883457184,\n",
              "   -0.06725006550550461,\n",
              "   -0.018632179126143456,\n",
              "   0.005168847739696503,\n",
              "   -0.07605306059122086,\n",
              "   0.05658617988228798,\n",
              "   0.007731702644377947,\n",
              "   0.02597091533243656,\n",
              "   -0.08373566716909409,\n",
              "   0.0007968315039761364,\n",
              "   0.07925106585025787,\n",
              "   -0.040301207453012466,\n",
              "   -0.0064713857136666775,\n",
              "   -0.014625181443989277,\n",
              "   -0.04406064748764038,\n",
              "   0.03476669639348984,\n",
              "   0.00843532383441925,\n",
              "   -0.011940845288336277,\n",
              "   0.0675850510597229,\n",
              "   0.0860067754983902,\n",
              "   0.06535625457763672,\n",
              "   -0.014408892020583153,\n",
              "   0.0858006700873375,\n",
              "   -0.016432637348771095,\n",
              "   0.053089287132024765,\n",
              "   -0.05792061984539032,\n",
              "   0.091733917593956,\n",
              "   0.02993832901120186,\n",
              "   -0.07390256226062775,\n",
              "   0.004934979137033224,\n",
              "   0.008710148744285107,\n",
              "   0.07573965936899185,\n",
              "   -0.10358549654483795,\n",
              "   -0.008342143148183823,\n",
              "   0.013663801364600658,\n",
              "   0.024845793843269348,\n",
              "   0.04399990290403366,\n",
              "   0.021570779383182526,\n",
              "   0.1126643642783165,\n",
              "   0.0697384774684906,\n",
              "   0.023552611470222473,\n",
              "   0.019812453538179398,\n",
              "   0.004071012604981661,\n",
              "   -0.05387584865093231,\n",
              "   -0.02992936410009861]],\n",
              " 'metadatas': None,\n",
              " 'documents': ['Be yourself; everyone else is already taken.'],\n",
              " 'uris': None,\n",
              " 'data': None}"
            ]
          },
          "execution_count": 8,
          "metadata": {},
          "output_type": "execute_result"
        }
      ],
      "source": [
        "# show document and mapped embedding\n",
        "collection.get(ids=['1'],include=['documents','embeddings'])\n"
      ]
    },
    {
      "cell_type": "markdown",
      "metadata": {
        "id": "oq59eysRMks1"
      },
      "source": []
    },
    {
      "cell_type": "code",
      "execution_count": 9,
      "metadata": {
        "id": "4ygPgvY8Lflx"
      },
      "outputs": [],
      "source": [
        "my_query = 'what is love'\n",
        "results = collection.query(\n",
        "    query_texts=my_query,\n",
        "    n_results=3)\n"
      ]
    },
    {
      "cell_type": "code",
      "execution_count": 10,
      "metadata": {
        "colab": {
          "base_uri": "https://localhost:8080/"
        },
        "id": "-Z6tZ0IaQ0Hy",
        "outputId": "747443a6-26bf-4d8a-d637-ece81686dbcf"
      },
      "outputs": [
        {
          "name": "stdout",
          "output_type": "stream",
          "text": [
            "Love is not only something you feel, it is something you do.\n",
            "Love is an irresistible desire to be irresistibly desired.\n",
            "Where there is love there is life.\n"
          ]
        }
      ],
      "source": [
        "for doc in results['documents'][0]:\n",
        "  print(doc)"
      ]
    },
    {
      "cell_type": "code",
      "execution_count": 11,
      "metadata": {
        "colab": {
          "base_uri": "https://localhost:8080/"
        },
        "id": "Alsa0st_SM7r",
        "outputId": "85943b2e-741f-44bb-8e6e-fbd1cc1872aa"
      },
      "outputs": [
        {
          "name": "stdout",
          "output_type": "stream",
          "text": [
            "Liberty, when it begins to take root, is a plant of rapid growth.\n",
            "Freedom is nothing else but a chance to be better.\n",
            "Freedom is nothing but a chance to be better.\n"
          ]
        }
      ],
      "source": [
        "my_query = 'what is green'\n",
        "results = collection.query(\n",
        "    query_texts=my_query,\n",
        "    n_results=3)\n",
        "for doc in results['documents'][0]:\n",
        "  print(doc)"
      ]
    },
    {
      "cell_type": "code",
      "execution_count": 12,
      "metadata": {
        "colab": {
          "base_uri": "https://localhost:8080/"
        },
        "id": "kLABryCcSZWQ",
        "outputId": "12467934-ccb3-4a12-e6d9-e54b0f708049"
      },
      "outputs": [
        {
          "name": "stdout",
          "output_type": "stream",
          "text": [
            "I think, therefore I am.\n",
            "Fear is a reaction. Courage is a decision.\n",
            "Creativity is seeing what others see and thinking what no one else ever thought.\n"
          ]
        }
      ],
      "source": [
        "my_query = 'what is red'\n",
        "results = collection.query(\n",
        "    query_texts=my_query,\n",
        "    n_results=3)\n",
        "for doc in results['documents'][0]:\n",
        "  print(doc)"
      ]
    },
    {
      "cell_type": "code",
      "execution_count": 13,
      "metadata": {
        "colab": {
          "base_uri": "https://localhost:8080/"
        },
        "id": "qIYd9qDASfQ8",
        "outputId": "3447eeb4-b823-4a77-b4ad-9442a2ec9b9c"
      },
      "outputs": [
        {
          "name": "stdout",
          "output_type": "stream",
          "text": [
            "Question everything. Learn something. Answer nothing.\n",
            "Do not pray for easy lives. Pray to be stronger men.\n",
            "The purpose of our lives is to be happy.\n"
          ]
        }
      ],
      "source": [
        "my_query = 'what to do when you are sad'\n",
        "results = collection.query(\n",
        "    query_texts=my_query,\n",
        "    n_results=3)\n",
        "for doc in results['documents'][0]:\n",
        "  print(doc)"
      ]
    },
    {
      "cell_type": "code",
      "execution_count": 14,
      "metadata": {
        "colab": {
          "base_uri": "https://localhost:8080/"
        },
        "id": "r-kUfADjJHYW",
        "outputId": "66990032-6580-45d2-d0b4-900d93afa404"
      },
      "outputs": [
        {
          "data": {
            "text/plain": [
              "100"
            ]
          },
          "execution_count": 14,
          "metadata": {},
          "output_type": "execute_result"
        }
      ],
      "source": [
        "collection.count()"
      ]
    },
    {
      "cell_type": "code",
      "execution_count": 18,
      "metadata": {
        "colab": {
          "base_uri": "https://localhost:8080/"
        },
        "id": "F_mdOdWQJPFP",
        "outputId": "c2ae3e9b-71a0-4b02-ea10-771d46c85547"
      },
      "outputs": [
        {
          "name": "stdout",
          "output_type": "stream",
          "text": [
            "name='quotes' id=UUID('745f9a45-cf56-41f8-9653-aabdf43cd7e0') metadata=None tenant='default_tenant' database='default_database'\n"
          ]
        }
      ],
      "source": [
        "print(collection)"
      ]
    },
    {
      "cell_type": "markdown",
      "metadata": {
        "id": "2CxWj87JLEmq"
      },
      "source": [
        "Changing similarity distance while creating collection. Default is L2\n",
        "https://docs.trychroma.com/usage-guide#changing-the-distance-function"
      ]
    },
    {
      "cell_type": "code",
      "execution_count": 19,
      "metadata": {
        "id": "gObhf1bNLOnm"
      },
      "outputs": [],
      "source": [
        "client.delete_collection('quotes')"
      ]
    },
    {
      "cell_type": "code",
      "execution_count": 20,
      "metadata": {
        "id": "aLXgd2lwLfod"
      },
      "outputs": [],
      "source": [
        "collection = client.create_collection(\n",
        "        name=\"quotes\",\n",
        "        metadata={\"hnsw:space\": \"cosine\"} # l2 is the default\n",
        "    )\n",
        "\n",
        "collection.add(\n",
        "    ids=[str(i) for i in range(0, len(df))],\n",
        "    documents=df['quote'].to_list(),\n",
        "    metadatas=[{'person': p, 'topic': t} for p,t in zip(df['person'].to_list(), df['topic'].to_list())],\n",
        ")"
      ]
    },
    {
      "cell_type": "code",
      "execution_count": 26,
      "metadata": {
        "colab": {
          "base_uri": "https://localhost:8080/"
        },
        "id": "B4aGzUc7MEyz",
        "outputId": "2c7ba008-9912-4cdd-c8dd-28f0ade2e8d7"
      },
      "outputs": [
        {
          "name": "stdout",
          "output_type": "stream",
          "text": [
            "Love is not only something you feel, it is something you do.\n",
            "Love is an irresistible desire to be irresistibly desired.\n",
            "Where there is love there is life.\n"
          ]
        }
      ],
      "source": [
        "my_query = 'what is love'\n",
        "results = collection.query(\n",
        "    query_texts=my_query,\n",
        "    n_results=3)\n",
        "for doc in results['documents'][0]:\n",
        "  print(doc)"
      ]
    },
    {
      "cell_type": "code",
      "execution_count": 31,
      "metadata": {
        "colab": {
          "base_uri": "https://localhost:8080/"
        },
        "id": "f5OrZC-xMWwG",
        "outputId": "4e1efb36-686c-4677-e378-8ae42b3e7ffd"
      },
      "outputs": [
        {
          "name": "stdout",
          "output_type": "stream",
          "text": [
            "When the power of love overcomes the love of power, the world will know peace.\n",
            "The purpose of our lives is to be happy.\n",
            "Success is not the key to happiness. Happiness is the key to success. If you love what you are doing, you will be successful.\n",
            "{'ids': [['71', '67', '17']], 'distances': [[0.6005175113677979, 0.6716969013214111, 0.745746374130249]], 'metadatas': [[{'person': 'Jimi Hendrix', 'topic': 'Peace'}, {'person': 'Dalai Lama', 'topic': 'Life'}, {'person': 'Albert Schweitzer', 'topic': 'Success'}]], 'embeddings': None, 'documents': [['When the power of love overcomes the love of power, the world will know peace.', 'The purpose of our lives is to be happy.', 'Success is not the key to happiness. Happiness is the key to success. If you love what you are doing, you will be successful.']], 'uris': None, 'data': None}\n"
          ]
        }
      ],
      "source": [
        "# use where to specify metadata\n",
        "my_query = 'what is love'\n",
        "results = collection.query(\n",
        "    query_texts=my_query,\n",
        "    n_results=3,\n",
        "    #where={\"topic\": \"Individuality\"} # topic is equal to 'Individuality'\n",
        "    where={\"topic\": {\"$ne\": \"Love\"}} # topic is not equal to 'Love'\n",
        "    )\n",
        "for doc in results['documents'][0]:\n",
        "  print(doc)\n",
        "print(results)"
      ]
    }
  ],
  "metadata": {
    "colab": {
      "provenance": []
    },
    "kernelspec": {
      "display_name": "Python 3",
      "name": "python3"
    },
    "language_info": {
      "name": "python"
    }
  },
  "nbformat": 4,
  "nbformat_minor": 0
}
