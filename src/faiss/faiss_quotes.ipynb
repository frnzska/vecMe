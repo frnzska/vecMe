{
  "nbformat": 4,
  "nbformat_minor": 0,
  "metadata": {
    "colab": {
      "provenance": []
    },
    "kernelspec": {
      "name": "python3",
      "display_name": "Python 3"
    },
    "language_info": {
      "name": "python"
    }
  },
  "cells": [
    {
      "cell_type": "markdown",
      "source": [
        "## Faiss - Facebook AI similarity search\n",
        "Eficient, fast similarity search in Vector db for dense vectors (partly not fitting in RAM) on huge amounts of data. https://engineering.fb.com/2017/03/29/data-infrastructure/faiss-a-library-for-efficient-similarity-search/\n",
        "\n",
        "https://github.com/facebookresearch/faiss/wiki/Faiss-indexes\n",
        "\n",
        "1. Generate embedding vectors for your data vectors and query vector.\n",
        "\n",
        "2. Choose index. Index is a datastructure for efficient vector storage and fast similarty search. By choosing an index like IndexFlatL2 you define the similarity function (Eucliedien distance L2), search method (exact search for L2), seach mode (brute force computing distance between the query vector and all vectors and returning k nearest neighbors) and the optimisation of the vector storage (4xd which means 4xd bytes total memory required for one vector).\n",
        "\n",
        "3. Add embedding vectors to index\n",
        "4. Do search with your query vector on index to get nearest neighbours vectors"
      ],
      "metadata": {
        "id": "KFdAdOglEca7"
      }
    },
    {
      "cell_type": "code",
      "source": [
        "!pip install sentence-transformers -q"
      ],
      "metadata": {
        "colab": {
          "base_uri": "https://localhost:8080/"
        },
        "id": "xXlqtyMTEoJN",
        "outputId": "536b0198-cb89-4a07-ffb3-e977e5fe0406"
      },
      "execution_count": 1,
      "outputs": [
        {
          "output_type": "stream",
          "name": "stdout",
          "text": [
            "\u001b[?25l     \u001b[90m━━━━━━━━━━━━━━━━━━━━━━━━━━━━━━━━━━━━━━━━\u001b[0m \u001b[32m0.0/171.5 kB\u001b[0m \u001b[31m?\u001b[0m eta \u001b[36m-:--:--\u001b[0m\r\u001b[2K     \u001b[91m━━━━━━━━━━━━━━\u001b[0m\u001b[90m╺\u001b[0m\u001b[90m━━━━━━━━━━━━━━━━━━━━━━━━━\u001b[0m \u001b[32m61.4/171.5 kB\u001b[0m \u001b[31m1.7 MB/s\u001b[0m eta \u001b[36m0:00:01\u001b[0m\r\u001b[2K     \u001b[90m━━━━━━━━━━━━━━━━━━━━━━━━━━━━━━━━━━━━━━━━\u001b[0m \u001b[32m171.5/171.5 kB\u001b[0m \u001b[31m2.8 MB/s\u001b[0m eta \u001b[36m0:00:00\u001b[0m\n",
            "\u001b[?25h"
          ]
        }
      ]
    },
    {
      "cell_type": "code",
      "source": [
        "!pip install faiss-cpu"
      ],
      "metadata": {
        "colab": {
          "base_uri": "https://localhost:8080/"
        },
        "id": "3y6W-hFlaTXN",
        "outputId": "4e0a3871-f63f-40ea-b923-9471a9a3c39f"
      },
      "execution_count": 17,
      "outputs": [
        {
          "output_type": "stream",
          "name": "stdout",
          "text": [
            "Collecting faiss-cpu\n",
            "  Downloading faiss_cpu-1.8.0-cp310-cp310-manylinux_2_17_x86_64.manylinux2014_x86_64.whl (27.0 MB)\n",
            "\u001b[2K     \u001b[90m━━━━━━━━━━━━━━━━━━━━━━━━━━━━━━━━━━━━━━━━\u001b[0m \u001b[32m27.0/27.0 MB\u001b[0m \u001b[31m24.0 MB/s\u001b[0m eta \u001b[36m0:00:00\u001b[0m\n",
            "\u001b[?25hRequirement already satisfied: numpy in /usr/local/lib/python3.10/dist-packages (from faiss-cpu) (1.25.2)\n",
            "Installing collected packages: faiss-cpu\n",
            "Successfully installed faiss-cpu-1.8.0\n"
          ]
        }
      ]
    },
    {
      "cell_type": "markdown",
      "source": [
        "## 1. Generate embeddings"
      ],
      "metadata": {
        "id": "i3WiGqoQXtWQ"
      }
    },
    {
      "cell_type": "code",
      "source": [
        "import pandas as pd\n",
        "from sentence_transformers import SentenceTransformer\n"
      ],
      "metadata": {
        "id": "6CUF00dvW8Wz"
      },
      "execution_count": 5,
      "outputs": []
    },
    {
      "cell_type": "code",
      "source": [
        "# we use quotes even tho not high-dimensional\n",
        "# embeddings need to be type dtype=float32\n",
        "embedding_model = SentenceTransformer(\"all-MiniLM-L6-v2\")\n",
        "df = pd.read_csv('sample_data/quotes.csv')\n",
        "embeddings = embedding_model.encode(df['quote'])\n",
        "query_vector = embedding_model.encode('What is Love')"
      ],
      "metadata": {
        "id": "5b-Rr2LQXKYq"
      },
      "execution_count": 12,
      "outputs": []
    },
    {
      "cell_type": "code",
      "source": [
        "dimensions = embeddings[0].shape[0] # 384 dimensions has a vector"
      ],
      "metadata": {
        "id": "--ht6tAoYf-C"
      },
      "execution_count": 20,
      "outputs": []
    },
    {
      "cell_type": "markdown",
      "source": [
        "## 2.Choose index"
      ],
      "metadata": {
        "id": "I92nxt-lZawx"
      }
    },
    {
      "cell_type": "code",
      "source": [
        "import faiss"
      ],
      "metadata": {
        "id": "2EMf9E3HaKJj"
      },
      "execution_count": 18,
      "outputs": []
    },
    {
      "cell_type": "code",
      "source": [
        "index = faiss.IndexFlatL2(dimensions)"
      ],
      "metadata": {
        "id": "UVPKhqqBY4oH"
      },
      "execution_count": 21,
      "outputs": []
    },
    {
      "cell_type": "markdown",
      "source": [
        "## 3. Add embedding vectors to index"
      ],
      "metadata": {
        "id": "5Hki3WNPar_9"
      }
    },
    {
      "cell_type": "code",
      "source": [
        "index.add(embeddings)"
      ],
      "metadata": {
        "id": "XqsVlKC8aaCV"
      },
      "execution_count": 22,
      "outputs": []
    },
    {
      "cell_type": "markdown",
      "source": [
        "## 4. Query index for k nearest neighbour"
      ],
      "metadata": {
        "id": "WtjujdRkbAhW"
      }
    },
    {
      "cell_type": "code",
      "source": [
        "import numpy as np\n",
        "k = 2\n",
        "query = np.array([query_vector])\n",
        "distance, indices = index.search(query, k=k)\n"
      ],
      "metadata": {
        "id": "lYW_4if5a0fE"
      },
      "execution_count": 36,
      "outputs": []
    },
    {
      "cell_type": "code",
      "source": [
        "distance"
      ],
      "metadata": {
        "colab": {
          "base_uri": "https://localhost:8080/"
        },
        "id": "patAwVcJbeTW",
        "outputId": "61e189a9-04b0-43e1-fae2-51713f74062a"
      },
      "execution_count": 37,
      "outputs": [
        {
          "output_type": "execute_result",
          "data": {
            "text/plain": [
              "array([[0.71335363, 0.8702464 ]], dtype=float32)"
            ]
          },
          "metadata": {},
          "execution_count": 37
        }
      ]
    },
    {
      "cell_type": "code",
      "source": [
        "indices"
      ],
      "metadata": {
        "colab": {
          "base_uri": "https://localhost:8080/"
        },
        "id": "_Rw_v1JadXp7",
        "outputId": "07faa02a-0422-4550-de5f-a5dc0e19e758"
      },
      "execution_count": 38,
      "outputs": [
        {
          "output_type": "execute_result",
          "data": {
            "text/plain": [
              "array([[78, 98]])"
            ]
          },
          "metadata": {},
          "execution_count": 38
        }
      ]
    },
    {
      "cell_type": "code",
      "source": [
        "for i in indices:\n",
        "  print(df['quote'][i])"
      ],
      "metadata": {
        "colab": {
          "base_uri": "https://localhost:8080/"
        },
        "id": "gcBhAehJeWZ2",
        "outputId": "5b0fd11c-44da-45ab-989a-6506b6d4c624"
      },
      "execution_count": 41,
      "outputs": [
        {
          "output_type": "stream",
          "name": "stdout",
          "text": [
            "78    Love is not only something you feel, it is som...\n",
            "98    Love is an irresistible desire to be irresisti...\n",
            "Name: quote, dtype: object\n"
          ]
        }
      ]
    },
    {
      "cell_type": "code",
      "source": [
        "query_vector = embedding_model.encode('What is Green')\n",
        "query = np.array([query_vector])\n",
        "distance, indices = index.search(query, k=k)\n",
        "\n",
        "for i in indices:\n",
        "  print(df['quote'][i])"
      ],
      "metadata": {
        "colab": {
          "base_uri": "https://localhost:8080/"
        },
        "id": "0yAnqzvGdobM",
        "outputId": "878c4a28-f692-4077-b754-122e0e8cb5fc"
      },
      "execution_count": 42,
      "outputs": [
        {
          "output_type": "stream",
          "name": "stdout",
          "text": [
            "74    Liberty, when it begins to take root, is a pla...\n",
            "94    Freedom is nothing else but a chance to be bet...\n",
            "Name: quote, dtype: object\n"
          ]
        }
      ]
    },
    {
      "cell_type": "code",
      "source": [],
      "metadata": {
        "id": "xBy5CdEmeNb1"
      },
      "execution_count": null,
      "outputs": []
    }
  ]
}