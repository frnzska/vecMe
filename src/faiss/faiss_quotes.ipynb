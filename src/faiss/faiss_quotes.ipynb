{
  "cells": [
    {
      "cell_type": "markdown",
      "metadata": {
        "id": "KFdAdOglEca7"
      },
      "source": [
        "## Faiss - Facebook AI similarity search\n",
        "Eficient, fast similarity search in Vector db for dense vectors (partly not fitting in RAM) on huge amounts of data. https://engineering.fb.com/2017/03/29/data-infrastructure/faiss-a-library-for-efficient-similarity-search/\n",
        "\n",
        "https://github.com/facebookresearch/faiss/wiki/Faiss-indexes\n",
        "\n",
        "1. Generate embedding vectors for your data vectors and query vector.\n",
        "\n",
        "2. Choose index. Index is a datastructure for efficient vector storage and fast similarty search. By choosing an index like IndexFlatL2 you define the similarity function (Eucliedien distance L2), search method (exact search for L2), seach mode (brute force computing distance between the query vector and all vectors and returning k nearest neighbors) and the optimisation of the vector storage (4xd which means 4xd bytes total memory required for one vector).\n",
        "\n",
        "3. Add embedding vectors to index\n",
        "4. Do search with your query vector on index to get nearest neighbours vectors"
      ]
    },
    {
      "cell_type": "code",
      "execution_count": null,
      "metadata": {
        "colab": {
          "base_uri": "https://localhost:8080/"
        },
        "id": "xXlqtyMTEoJN",
        "outputId": "536b0198-cb89-4a07-ffb3-e977e5fe0406"
      },
      "outputs": [],
      "source": [
        "!pip install sentence-transformers -q"
      ]
    },
    {
      "cell_type": "code",
      "execution_count": null,
      "metadata": {
        "colab": {
          "base_uri": "https://localhost:8080/"
        },
        "id": "3y6W-hFlaTXN",
        "outputId": "4e0a3871-f63f-40ea-b923-9471a9a3c39f"
      },
      "outputs": [],
      "source": [
        "!pip install faiss-cpu"
      ]
    },
    {
      "cell_type": "markdown",
      "metadata": {
        "id": "i3WiGqoQXtWQ"
      },
      "source": [
        "## 1. Generate embeddings"
      ]
    },
    {
      "cell_type": "code",
      "execution_count": 5,
      "metadata": {
        "id": "6CUF00dvW8Wz"
      },
      "outputs": [],
      "source": [
        "import pandas as pd\n",
        "from sentence_transformers import SentenceTransformer\n"
      ]
    },
    {
      "cell_type": "code",
      "execution_count": 12,
      "metadata": {
        "id": "5b-Rr2LQXKYq"
      },
      "outputs": [],
      "source": [
        "# we use quotes even tho not high-dimensional\n",
        "# embeddings need to be type dtype=float32\n",
        "embedding_model = SentenceTransformer(\"all-MiniLM-L6-v2\")\n",
        "df = pd.read_csv('sample_data/quotes.csv')\n",
        "embeddings = embedding_model.encode(df['quote'])\n",
        "query_vector = embedding_model.encode('What is Love')"
      ]
    },
    {
      "cell_type": "code",
      "execution_count": 20,
      "metadata": {
        "id": "--ht6tAoYf-C"
      },
      "outputs": [],
      "source": [
        "dimensions = embeddings[0].shape[0] # 384 dimensions has a vector"
      ]
    },
    {
      "cell_type": "markdown",
      "metadata": {
        "id": "I92nxt-lZawx"
      },
      "source": [
        "## 2.Choose index"
      ]
    },
    {
      "cell_type": "code",
      "execution_count": 18,
      "metadata": {
        "id": "2EMf9E3HaKJj"
      },
      "outputs": [],
      "source": [
        "import faiss"
      ]
    },
    {
      "cell_type": "code",
      "execution_count": 21,
      "metadata": {
        "id": "UVPKhqqBY4oH"
      },
      "outputs": [],
      "source": [
        "index = faiss.IndexFlatL2(dimensions)"
      ]
    },
    {
      "cell_type": "markdown",
      "metadata": {
        "id": "5Hki3WNPar_9"
      },
      "source": [
        "## 3. Add embedding vectors to index"
      ]
    },
    {
      "cell_type": "code",
      "execution_count": 22,
      "metadata": {
        "id": "XqsVlKC8aaCV"
      },
      "outputs": [],
      "source": [
        "index.add(embeddings)"
      ]
    },
    {
      "cell_type": "markdown",
      "metadata": {
        "id": "WtjujdRkbAhW"
      },
      "source": [
        "## 4. Query index for k nearest neighbour"
      ]
    },
    {
      "cell_type": "code",
      "execution_count": 36,
      "metadata": {
        "id": "lYW_4if5a0fE"
      },
      "outputs": [],
      "source": [
        "import numpy as np\n",
        "k = 2\n",
        "query = np.array([query_vector])\n",
        "distance, indices = index.search(query, k=k)\n"
      ]
    },
    {
      "cell_type": "code",
      "execution_count": 37,
      "metadata": {
        "colab": {
          "base_uri": "https://localhost:8080/"
        },
        "id": "patAwVcJbeTW",
        "outputId": "61e189a9-04b0-43e1-fae2-51713f74062a"
      },
      "outputs": [
        {
          "data": {
            "text/plain": [
              "array([[0.71335363, 0.8702464 ]], dtype=float32)"
            ]
          },
          "execution_count": 37,
          "metadata": {},
          "output_type": "execute_result"
        }
      ],
      "source": [
        "distance"
      ]
    },
    {
      "cell_type": "code",
      "execution_count": 38,
      "metadata": {
        "colab": {
          "base_uri": "https://localhost:8080/"
        },
        "id": "_Rw_v1JadXp7",
        "outputId": "07faa02a-0422-4550-de5f-a5dc0e19e758"
      },
      "outputs": [
        {
          "data": {
            "text/plain": [
              "array([[78, 98]])"
            ]
          },
          "execution_count": 38,
          "metadata": {},
          "output_type": "execute_result"
        }
      ],
      "source": [
        "indices"
      ]
    },
    {
      "cell_type": "code",
      "execution_count": 41,
      "metadata": {
        "colab": {
          "base_uri": "https://localhost:8080/"
        },
        "id": "gcBhAehJeWZ2",
        "outputId": "5b0fd11c-44da-45ab-989a-6506b6d4c624"
      },
      "outputs": [
        {
          "name": "stdout",
          "output_type": "stream",
          "text": [
            "78    Love is not only something you feel, it is som...\n",
            "98    Love is an irresistible desire to be irresisti...\n",
            "Name: quote, dtype: object\n"
          ]
        }
      ],
      "source": [
        "for i in indices:\n",
        "  print(df['quote'][i])"
      ]
    },
    {
      "cell_type": "code",
      "execution_count": 42,
      "metadata": {
        "colab": {
          "base_uri": "https://localhost:8080/"
        },
        "id": "0yAnqzvGdobM",
        "outputId": "878c4a28-f692-4077-b754-122e0e8cb5fc"
      },
      "outputs": [
        {
          "name": "stdout",
          "output_type": "stream",
          "text": [
            "74    Liberty, when it begins to take root, is a pla...\n",
            "94    Freedom is nothing else but a chance to be bet...\n",
            "Name: quote, dtype: object\n"
          ]
        }
      ],
      "source": [
        "query_vector = embedding_model.encode('What is Green')\n",
        "query = np.array([query_vector])\n",
        "distance, indices = index.search(query, k=k)\n",
        "\n",
        "for i in indices:\n",
        "  print(df['quote'][i])"
      ]
    },
    {
      "cell_type": "code",
      "execution_count": null,
      "metadata": {
        "id": "xBy5CdEmeNb1"
      },
      "outputs": [],
      "source": []
    }
  ],
  "metadata": {
    "colab": {
      "provenance": []
    },
    "kernelspec": {
      "display_name": "Python 3",
      "name": "python3"
    },
    "language_info": {
      "name": "python"
    }
  },
  "nbformat": 4,
  "nbformat_minor": 0
}
